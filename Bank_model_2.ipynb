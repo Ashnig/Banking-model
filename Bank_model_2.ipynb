{
  "cells": [
    {
      "cell_type": "markdown",
      "metadata": {
        "id": "view-in-github",
        "colab_type": "text"
      },
      "source": [
        "<a href=\"https://colab.research.google.com/github/Ashnig/Banking-model/blob/main/Bank_model_2.ipynb\" target=\"_parent\"><img src=\"https://colab.research.google.com/assets/colab-badge.svg\" alt=\"Open In Colab\"/></a>"
      ]
    },
    {
      "cell_type": "code",
      "execution_count": null,
      "metadata": {
        "id": "ytZnqi5SnTm7"
      },
      "outputs": [],
      "source": [
        "#important the necessary libraries\n",
        "import pandas as pd\n",
        "import numpy as np\n",
        "import matplotlib.pyplot as plt\n",
        "import matplotlib as mpl\n",
        "import seaborn as sns\n",
        "\n",
        "import warnings\n",
        "warnings.filterwarnings('ignore')\n",
        "\n",
        "sns.set(style=\"darkgrid\")\n",
        "sns.set(font_scale = 1.2)\n",
        "%matplotlib inline"
      ]
    },
    {
      "cell_type": "code",
      "execution_count": null,
      "metadata": {
        "id": "aBfgrP17n35C",
        "colab": {
          "base_uri": "https://localhost:8080/",
          "height": 73
        },
        "outputId": "6d7f7383-6a28-42ca-9756-7a080ba474a3"
      },
      "outputs": [
        {
          "output_type": "display_data",
          "data": {
            "text/plain": [
              "<IPython.core.display.HTML object>"
            ],
            "text/html": [
              "\n",
              "     <input type=\"file\" id=\"files-58cc9648-549a-4fc7-b633-5fe238f860b1\" name=\"files[]\" multiple disabled\n",
              "        style=\"border:none\" />\n",
              "     <output id=\"result-58cc9648-549a-4fc7-b633-5fe238f860b1\">\n",
              "      Upload widget is only available when the cell has been executed in the\n",
              "      current browser session. Please rerun this cell to enable.\n",
              "      </output>\n",
              "      <script>// Copyright 2017 Google LLC\n",
              "//\n",
              "// Licensed under the Apache License, Version 2.0 (the \"License\");\n",
              "// you may not use this file except in compliance with the License.\n",
              "// You may obtain a copy of the License at\n",
              "//\n",
              "//      http://www.apache.org/licenses/LICENSE-2.0\n",
              "//\n",
              "// Unless required by applicable law or agreed to in writing, software\n",
              "// distributed under the License is distributed on an \"AS IS\" BASIS,\n",
              "// WITHOUT WARRANTIES OR CONDITIONS OF ANY KIND, either express or implied.\n",
              "// See the License for the specific language governing permissions and\n",
              "// limitations under the License.\n",
              "\n",
              "/**\n",
              " * @fileoverview Helpers for google.colab Python module.\n",
              " */\n",
              "(function(scope) {\n",
              "function span(text, styleAttributes = {}) {\n",
              "  const element = document.createElement('span');\n",
              "  element.textContent = text;\n",
              "  for (const key of Object.keys(styleAttributes)) {\n",
              "    element.style[key] = styleAttributes[key];\n",
              "  }\n",
              "  return element;\n",
              "}\n",
              "\n",
              "// Max number of bytes which will be uploaded at a time.\n",
              "const MAX_PAYLOAD_SIZE = 100 * 1024;\n",
              "\n",
              "function _uploadFiles(inputId, outputId) {\n",
              "  const steps = uploadFilesStep(inputId, outputId);\n",
              "  const outputElement = document.getElementById(outputId);\n",
              "  // Cache steps on the outputElement to make it available for the next call\n",
              "  // to uploadFilesContinue from Python.\n",
              "  outputElement.steps = steps;\n",
              "\n",
              "  return _uploadFilesContinue(outputId);\n",
              "}\n",
              "\n",
              "// This is roughly an async generator (not supported in the browser yet),\n",
              "// where there are multiple asynchronous steps and the Python side is going\n",
              "// to poll for completion of each step.\n",
              "// This uses a Promise to block the python side on completion of each step,\n",
              "// then passes the result of the previous step as the input to the next step.\n",
              "function _uploadFilesContinue(outputId) {\n",
              "  const outputElement = document.getElementById(outputId);\n",
              "  const steps = outputElement.steps;\n",
              "\n",
              "  const next = steps.next(outputElement.lastPromiseValue);\n",
              "  return Promise.resolve(next.value.promise).then((value) => {\n",
              "    // Cache the last promise value to make it available to the next\n",
              "    // step of the generator.\n",
              "    outputElement.lastPromiseValue = value;\n",
              "    return next.value.response;\n",
              "  });\n",
              "}\n",
              "\n",
              "/**\n",
              " * Generator function which is called between each async step of the upload\n",
              " * process.\n",
              " * @param {string} inputId Element ID of the input file picker element.\n",
              " * @param {string} outputId Element ID of the output display.\n",
              " * @return {!Iterable<!Object>} Iterable of next steps.\n",
              " */\n",
              "function* uploadFilesStep(inputId, outputId) {\n",
              "  const inputElement = document.getElementById(inputId);\n",
              "  inputElement.disabled = false;\n",
              "\n",
              "  const outputElement = document.getElementById(outputId);\n",
              "  outputElement.innerHTML = '';\n",
              "\n",
              "  const pickedPromise = new Promise((resolve) => {\n",
              "    inputElement.addEventListener('change', (e) => {\n",
              "      resolve(e.target.files);\n",
              "    });\n",
              "  });\n",
              "\n",
              "  const cancel = document.createElement('button');\n",
              "  inputElement.parentElement.appendChild(cancel);\n",
              "  cancel.textContent = 'Cancel upload';\n",
              "  const cancelPromise = new Promise((resolve) => {\n",
              "    cancel.onclick = () => {\n",
              "      resolve(null);\n",
              "    };\n",
              "  });\n",
              "\n",
              "  // Wait for the user to pick the files.\n",
              "  const files = yield {\n",
              "    promise: Promise.race([pickedPromise, cancelPromise]),\n",
              "    response: {\n",
              "      action: 'starting',\n",
              "    }\n",
              "  };\n",
              "\n",
              "  cancel.remove();\n",
              "\n",
              "  // Disable the input element since further picks are not allowed.\n",
              "  inputElement.disabled = true;\n",
              "\n",
              "  if (!files) {\n",
              "    return {\n",
              "      response: {\n",
              "        action: 'complete',\n",
              "      }\n",
              "    };\n",
              "  }\n",
              "\n",
              "  for (const file of files) {\n",
              "    const li = document.createElement('li');\n",
              "    li.append(span(file.name, {fontWeight: 'bold'}));\n",
              "    li.append(span(\n",
              "        `(${file.type || 'n/a'}) - ${file.size} bytes, ` +\n",
              "        `last modified: ${\n",
              "            file.lastModifiedDate ? file.lastModifiedDate.toLocaleDateString() :\n",
              "                                    'n/a'} - `));\n",
              "    const percent = span('0% done');\n",
              "    li.appendChild(percent);\n",
              "\n",
              "    outputElement.appendChild(li);\n",
              "\n",
              "    const fileDataPromise = new Promise((resolve) => {\n",
              "      const reader = new FileReader();\n",
              "      reader.onload = (e) => {\n",
              "        resolve(e.target.result);\n",
              "      };\n",
              "      reader.readAsArrayBuffer(file);\n",
              "    });\n",
              "    // Wait for the data to be ready.\n",
              "    let fileData = yield {\n",
              "      promise: fileDataPromise,\n",
              "      response: {\n",
              "        action: 'continue',\n",
              "      }\n",
              "    };\n",
              "\n",
              "    // Use a chunked sending to avoid message size limits. See b/62115660.\n",
              "    let position = 0;\n",
              "    do {\n",
              "      const length = Math.min(fileData.byteLength - position, MAX_PAYLOAD_SIZE);\n",
              "      const chunk = new Uint8Array(fileData, position, length);\n",
              "      position += length;\n",
              "\n",
              "      const base64 = btoa(String.fromCharCode.apply(null, chunk));\n",
              "      yield {\n",
              "        response: {\n",
              "          action: 'append',\n",
              "          file: file.name,\n",
              "          data: base64,\n",
              "        },\n",
              "      };\n",
              "\n",
              "      let percentDone = fileData.byteLength === 0 ?\n",
              "          100 :\n",
              "          Math.round((position / fileData.byteLength) * 100);\n",
              "      percent.textContent = `${percentDone}% done`;\n",
              "\n",
              "    } while (position < fileData.byteLength);\n",
              "  }\n",
              "\n",
              "  // All done.\n",
              "  yield {\n",
              "    response: {\n",
              "      action: 'complete',\n",
              "    }\n",
              "  };\n",
              "}\n",
              "\n",
              "scope.google = scope.google || {};\n",
              "scope.google.colab = scope.google.colab || {};\n",
              "scope.google.colab._files = {\n",
              "  _uploadFiles,\n",
              "  _uploadFilesContinue,\n",
              "};\n",
              "})(self);\n",
              "</script> "
            ]
          },
          "metadata": {}
        },
        {
          "output_type": "stream",
          "name": "stdout",
          "text": [
            "Saving bank-full.csv to bank-full.csv\n"
          ]
        }
      ],
      "source": [
        "#importing the dataset\n",
        "from google.colab import files\n",
        "\n",
        "uploaded = files.upload()"
      ]
    },
    {
      "cell_type": "code",
      "execution_count": null,
      "metadata": {
        "id": "aASNVkw7oLx8"
      },
      "outputs": [],
      "source": [
        "import io\n",
        "data = pd.read_csv(io.BytesIO(uploaded['bank-full.csv']))"
      ]
    },
    {
      "cell_type": "code",
      "execution_count": null,
      "metadata": {
        "id": "gjr2ibigoyN2",
        "colab": {
          "base_uri": "https://localhost:8080/",
          "height": 270
        },
        "outputId": "2900834f-78a8-4630-a3f9-e89d440dc9c3"
      },
      "outputs": [
        {
          "output_type": "execute_result",
          "data": {
            "text/plain": [
              "   age           job  marital  education default  balance housing loan  \\\n",
              "0   58    management  married   tertiary      no     2143     yes   no   \n",
              "1   44    technician   single  secondary      no       29     yes   no   \n",
              "2   33  entrepreneur  married  secondary      no        2     yes  yes   \n",
              "3   47   blue-collar  married    unknown      no     1506     yes   no   \n",
              "4   33       unknown   single    unknown      no        1      no   no   \n",
              "\n",
              "   contact  day month  duration  campaign  pdays  previous poutcome   y  \n",
              "0  unknown    5   may       261         1     -1         0  unknown  no  \n",
              "1  unknown    5   may       151         1     -1         0  unknown  no  \n",
              "2  unknown    5   may        76         1     -1         0  unknown  no  \n",
              "3  unknown    5   may        92         1     -1         0  unknown  no  \n",
              "4  unknown    5   may       198         1     -1         0  unknown  no  "
            ],
            "text/html": [
              "\n",
              "  <div id=\"df-bb2af261-3602-4c8a-a83f-06979c7539a9\">\n",
              "    <div class=\"colab-df-container\">\n",
              "      <div>\n",
              "<style scoped>\n",
              "    .dataframe tbody tr th:only-of-type {\n",
              "        vertical-align: middle;\n",
              "    }\n",
              "\n",
              "    .dataframe tbody tr th {\n",
              "        vertical-align: top;\n",
              "    }\n",
              "\n",
              "    .dataframe thead th {\n",
              "        text-align: right;\n",
              "    }\n",
              "</style>\n",
              "<table border=\"1\" class=\"dataframe\">\n",
              "  <thead>\n",
              "    <tr style=\"text-align: right;\">\n",
              "      <th></th>\n",
              "      <th>age</th>\n",
              "      <th>job</th>\n",
              "      <th>marital</th>\n",
              "      <th>education</th>\n",
              "      <th>default</th>\n",
              "      <th>balance</th>\n",
              "      <th>housing</th>\n",
              "      <th>loan</th>\n",
              "      <th>contact</th>\n",
              "      <th>day</th>\n",
              "      <th>month</th>\n",
              "      <th>duration</th>\n",
              "      <th>campaign</th>\n",
              "      <th>pdays</th>\n",
              "      <th>previous</th>\n",
              "      <th>poutcome</th>\n",
              "      <th>y</th>\n",
              "    </tr>\n",
              "  </thead>\n",
              "  <tbody>\n",
              "    <tr>\n",
              "      <th>0</th>\n",
              "      <td>58</td>\n",
              "      <td>management</td>\n",
              "      <td>married</td>\n",
              "      <td>tertiary</td>\n",
              "      <td>no</td>\n",
              "      <td>2143</td>\n",
              "      <td>yes</td>\n",
              "      <td>no</td>\n",
              "      <td>unknown</td>\n",
              "      <td>5</td>\n",
              "      <td>may</td>\n",
              "      <td>261</td>\n",
              "      <td>1</td>\n",
              "      <td>-1</td>\n",
              "      <td>0</td>\n",
              "      <td>unknown</td>\n",
              "      <td>no</td>\n",
              "    </tr>\n",
              "    <tr>\n",
              "      <th>1</th>\n",
              "      <td>44</td>\n",
              "      <td>technician</td>\n",
              "      <td>single</td>\n",
              "      <td>secondary</td>\n",
              "      <td>no</td>\n",
              "      <td>29</td>\n",
              "      <td>yes</td>\n",
              "      <td>no</td>\n",
              "      <td>unknown</td>\n",
              "      <td>5</td>\n",
              "      <td>may</td>\n",
              "      <td>151</td>\n",
              "      <td>1</td>\n",
              "      <td>-1</td>\n",
              "      <td>0</td>\n",
              "      <td>unknown</td>\n",
              "      <td>no</td>\n",
              "    </tr>\n",
              "    <tr>\n",
              "      <th>2</th>\n",
              "      <td>33</td>\n",
              "      <td>entrepreneur</td>\n",
              "      <td>married</td>\n",
              "      <td>secondary</td>\n",
              "      <td>no</td>\n",
              "      <td>2</td>\n",
              "      <td>yes</td>\n",
              "      <td>yes</td>\n",
              "      <td>unknown</td>\n",
              "      <td>5</td>\n",
              "      <td>may</td>\n",
              "      <td>76</td>\n",
              "      <td>1</td>\n",
              "      <td>-1</td>\n",
              "      <td>0</td>\n",
              "      <td>unknown</td>\n",
              "      <td>no</td>\n",
              "    </tr>\n",
              "    <tr>\n",
              "      <th>3</th>\n",
              "      <td>47</td>\n",
              "      <td>blue-collar</td>\n",
              "      <td>married</td>\n",
              "      <td>unknown</td>\n",
              "      <td>no</td>\n",
              "      <td>1506</td>\n",
              "      <td>yes</td>\n",
              "      <td>no</td>\n",
              "      <td>unknown</td>\n",
              "      <td>5</td>\n",
              "      <td>may</td>\n",
              "      <td>92</td>\n",
              "      <td>1</td>\n",
              "      <td>-1</td>\n",
              "      <td>0</td>\n",
              "      <td>unknown</td>\n",
              "      <td>no</td>\n",
              "    </tr>\n",
              "    <tr>\n",
              "      <th>4</th>\n",
              "      <td>33</td>\n",
              "      <td>unknown</td>\n",
              "      <td>single</td>\n",
              "      <td>unknown</td>\n",
              "      <td>no</td>\n",
              "      <td>1</td>\n",
              "      <td>no</td>\n",
              "      <td>no</td>\n",
              "      <td>unknown</td>\n",
              "      <td>5</td>\n",
              "      <td>may</td>\n",
              "      <td>198</td>\n",
              "      <td>1</td>\n",
              "      <td>-1</td>\n",
              "      <td>0</td>\n",
              "      <td>unknown</td>\n",
              "      <td>no</td>\n",
              "    </tr>\n",
              "  </tbody>\n",
              "</table>\n",
              "</div>\n",
              "      <button class=\"colab-df-convert\" onclick=\"convertToInteractive('df-bb2af261-3602-4c8a-a83f-06979c7539a9')\"\n",
              "              title=\"Convert this dataframe to an interactive table.\"\n",
              "              style=\"display:none;\">\n",
              "        \n",
              "  <svg xmlns=\"http://www.w3.org/2000/svg\" height=\"24px\"viewBox=\"0 0 24 24\"\n",
              "       width=\"24px\">\n",
              "    <path d=\"M0 0h24v24H0V0z\" fill=\"none\"/>\n",
              "    <path d=\"M18.56 5.44l.94 2.06.94-2.06 2.06-.94-2.06-.94-.94-2.06-.94 2.06-2.06.94zm-11 1L8.5 8.5l.94-2.06 2.06-.94-2.06-.94L8.5 2.5l-.94 2.06-2.06.94zm10 10l.94 2.06.94-2.06 2.06-.94-2.06-.94-.94-2.06-.94 2.06-2.06.94z\"/><path d=\"M17.41 7.96l-1.37-1.37c-.4-.4-.92-.59-1.43-.59-.52 0-1.04.2-1.43.59L10.3 9.45l-7.72 7.72c-.78.78-.78 2.05 0 2.83L4 21.41c.39.39.9.59 1.41.59.51 0 1.02-.2 1.41-.59l7.78-7.78 2.81-2.81c.8-.78.8-2.07 0-2.86zM5.41 20L4 18.59l7.72-7.72 1.47 1.35L5.41 20z\"/>\n",
              "  </svg>\n",
              "      </button>\n",
              "      \n",
              "  <style>\n",
              "    .colab-df-container {\n",
              "      display:flex;\n",
              "      flex-wrap:wrap;\n",
              "      gap: 12px;\n",
              "    }\n",
              "\n",
              "    .colab-df-convert {\n",
              "      background-color: #E8F0FE;\n",
              "      border: none;\n",
              "      border-radius: 50%;\n",
              "      cursor: pointer;\n",
              "      display: none;\n",
              "      fill: #1967D2;\n",
              "      height: 32px;\n",
              "      padding: 0 0 0 0;\n",
              "      width: 32px;\n",
              "    }\n",
              "\n",
              "    .colab-df-convert:hover {\n",
              "      background-color: #E2EBFA;\n",
              "      box-shadow: 0px 1px 2px rgba(60, 64, 67, 0.3), 0px 1px 3px 1px rgba(60, 64, 67, 0.15);\n",
              "      fill: #174EA6;\n",
              "    }\n",
              "\n",
              "    [theme=dark] .colab-df-convert {\n",
              "      background-color: #3B4455;\n",
              "      fill: #D2E3FC;\n",
              "    }\n",
              "\n",
              "    [theme=dark] .colab-df-convert:hover {\n",
              "      background-color: #434B5C;\n",
              "      box-shadow: 0px 1px 3px 1px rgba(0, 0, 0, 0.15);\n",
              "      filter: drop-shadow(0px 1px 2px rgba(0, 0, 0, 0.3));\n",
              "      fill: #FFFFFF;\n",
              "    }\n",
              "  </style>\n",
              "\n",
              "      <script>\n",
              "        const buttonEl =\n",
              "          document.querySelector('#df-bb2af261-3602-4c8a-a83f-06979c7539a9 button.colab-df-convert');\n",
              "        buttonEl.style.display =\n",
              "          google.colab.kernel.accessAllowed ? 'block' : 'none';\n",
              "\n",
              "        async function convertToInteractive(key) {\n",
              "          const element = document.querySelector('#df-bb2af261-3602-4c8a-a83f-06979c7539a9');\n",
              "          const dataTable =\n",
              "            await google.colab.kernel.invokeFunction('convertToInteractive',\n",
              "                                                     [key], {});\n",
              "          if (!dataTable) return;\n",
              "\n",
              "          const docLinkHtml = 'Like what you see? Visit the ' +\n",
              "            '<a target=\"_blank\" href=https://colab.research.google.com/notebooks/data_table.ipynb>data table notebook</a>'\n",
              "            + ' to learn more about interactive tables.';\n",
              "          element.innerHTML = '';\n",
              "          dataTable['output_type'] = 'display_data';\n",
              "          await google.colab.output.renderOutput(dataTable, element);\n",
              "          const docLink = document.createElement('div');\n",
              "          docLink.innerHTML = docLinkHtml;\n",
              "          element.appendChild(docLink);\n",
              "        }\n",
              "      </script>\n",
              "    </div>\n",
              "  </div>\n",
              "  "
            ]
          },
          "metadata": {},
          "execution_count": 4
        }
      ],
      "source": [
        "data.head()"
      ]
    },
    {
      "cell_type": "markdown",
      "metadata": {
        "id": "GMUSPxHbo-G1"
      },
      "source": [
        "EDA is an essential part of ML model development because it helps us in understanding our data and extract useful insights."
      ]
    },
    {
      "cell_type": "code",
      "execution_count": null,
      "metadata": {
        "id": "XzIBllTjpjX5",
        "colab": {
          "base_uri": "https://localhost:8080/"
        },
        "outputId": "fe7de5d8-5947-493a-b3e5-d93aaa469d43"
      },
      "outputs": [
        {
          "output_type": "stream",
          "name": "stdout",
          "text": [
            "Dataset shape: (45211, 17)\n",
            "Dataset size: 768587\n"
          ]
        }
      ],
      "source": [
        "print(\"Dataset shape:\", data.shape)\n",
        "\n",
        "print(\"Dataset size:\", data.size)"
      ]
    },
    {
      "cell_type": "markdown",
      "metadata": {
        "id": "9bjWqeuLsJLd"
      },
      "source": [
        ".info() is used to get concise summary of the dataset"
      ]
    },
    {
      "cell_type": "code",
      "execution_count": null,
      "metadata": {
        "id": "huBhXEvQqxXi",
        "colab": {
          "base_uri": "https://localhost:8080/"
        },
        "outputId": "9a3f31a2-865a-4fcf-b345-2f4899e57383"
      },
      "outputs": [
        {
          "output_type": "stream",
          "name": "stdout",
          "text": [
            "Data information\n",
            "<class 'pandas.core.frame.DataFrame'>\n",
            "RangeIndex: 45211 entries, 0 to 45210\n",
            "Data columns (total 17 columns):\n",
            " #   Column     Non-Null Count  Dtype \n",
            "---  ------     --------------  ----- \n",
            " 0   age        45211 non-null  int64 \n",
            " 1   job        45211 non-null  object\n",
            " 2   marital    45211 non-null  object\n",
            " 3   education  45211 non-null  object\n",
            " 4   default    45211 non-null  object\n",
            " 5   balance    45211 non-null  int64 \n",
            " 6   housing    45211 non-null  object\n",
            " 7   loan       45211 non-null  object\n",
            " 8   contact    45211 non-null  object\n",
            " 9   day        45211 non-null  int64 \n",
            " 10  month      45211 non-null  object\n",
            " 11  duration   45211 non-null  int64 \n",
            " 12  campaign   45211 non-null  int64 \n",
            " 13  pdays      45211 non-null  int64 \n",
            " 14  previous   45211 non-null  int64 \n",
            " 15  poutcome   45211 non-null  object\n",
            " 16  y          45211 non-null  object\n",
            "dtypes: int64(7), object(10)\n",
            "memory usage: 5.9+ MB\n"
          ]
        }
      ],
      "source": [
        "print(\"Data information\")\n",
        "data.info()"
      ]
    },
    {
      "cell_type": "markdown",
      "metadata": {
        "id": "nYvJCZMNtBj-"
      },
      "source": [
        ".describe() is used to view some basic statistical details like percentile, mean, std etc. of numerical columns in the dataset"
      ]
    },
    {
      "cell_type": "code",
      "execution_count": null,
      "metadata": {
        "id": "0syyagvzsG2K",
        "colab": {
          "base_uri": "https://localhost:8080/",
          "height": 313
        },
        "outputId": "40f6d24d-b2ed-4ffe-b0a6-62cf9c061458"
      },
      "outputs": [
        {
          "output_type": "execute_result",
          "data": {
            "text/plain": [
              "            count         mean          std     min    25%    50%     75%  \\\n",
              "age       45211.0    40.936210    10.618762    18.0   33.0   39.0    48.0   \n",
              "balance   45211.0  1362.272058  3044.765829 -8019.0   72.0  448.0  1428.0   \n",
              "day       45211.0    15.806419     8.322476     1.0    8.0   16.0    21.0   \n",
              "duration  45211.0   258.163080   257.527812     0.0  103.0  180.0   319.0   \n",
              "campaign  45211.0     2.763841     3.098021     1.0    1.0    2.0     3.0   \n",
              "pdays     45211.0    40.197828   100.128746    -1.0   -1.0   -1.0    -1.0   \n",
              "previous  45211.0     0.580323     2.303441     0.0    0.0    0.0     0.0   \n",
              "\n",
              "               max  \n",
              "age           95.0  \n",
              "balance   102127.0  \n",
              "day           31.0  \n",
              "duration    4918.0  \n",
              "campaign      63.0  \n",
              "pdays        871.0  \n",
              "previous     275.0  "
            ],
            "text/html": [
              "\n",
              "  <div id=\"df-11a8f108-1f51-4add-a9c1-4351de8eb0d5\">\n",
              "    <div class=\"colab-df-container\">\n",
              "      <div>\n",
              "<style scoped>\n",
              "    .dataframe tbody tr th:only-of-type {\n",
              "        vertical-align: middle;\n",
              "    }\n",
              "\n",
              "    .dataframe tbody tr th {\n",
              "        vertical-align: top;\n",
              "    }\n",
              "\n",
              "    .dataframe thead th {\n",
              "        text-align: right;\n",
              "    }\n",
              "</style>\n",
              "<table border=\"1\" class=\"dataframe\">\n",
              "  <thead>\n",
              "    <tr style=\"text-align: right;\">\n",
              "      <th></th>\n",
              "      <th>count</th>\n",
              "      <th>mean</th>\n",
              "      <th>std</th>\n",
              "      <th>min</th>\n",
              "      <th>25%</th>\n",
              "      <th>50%</th>\n",
              "      <th>75%</th>\n",
              "      <th>max</th>\n",
              "    </tr>\n",
              "  </thead>\n",
              "  <tbody>\n",
              "    <tr>\n",
              "      <th>age</th>\n",
              "      <td>45211.0</td>\n",
              "      <td>40.936210</td>\n",
              "      <td>10.618762</td>\n",
              "      <td>18.0</td>\n",
              "      <td>33.0</td>\n",
              "      <td>39.0</td>\n",
              "      <td>48.0</td>\n",
              "      <td>95.0</td>\n",
              "    </tr>\n",
              "    <tr>\n",
              "      <th>balance</th>\n",
              "      <td>45211.0</td>\n",
              "      <td>1362.272058</td>\n",
              "      <td>3044.765829</td>\n",
              "      <td>-8019.0</td>\n",
              "      <td>72.0</td>\n",
              "      <td>448.0</td>\n",
              "      <td>1428.0</td>\n",
              "      <td>102127.0</td>\n",
              "    </tr>\n",
              "    <tr>\n",
              "      <th>day</th>\n",
              "      <td>45211.0</td>\n",
              "      <td>15.806419</td>\n",
              "      <td>8.322476</td>\n",
              "      <td>1.0</td>\n",
              "      <td>8.0</td>\n",
              "      <td>16.0</td>\n",
              "      <td>21.0</td>\n",
              "      <td>31.0</td>\n",
              "    </tr>\n",
              "    <tr>\n",
              "      <th>duration</th>\n",
              "      <td>45211.0</td>\n",
              "      <td>258.163080</td>\n",
              "      <td>257.527812</td>\n",
              "      <td>0.0</td>\n",
              "      <td>103.0</td>\n",
              "      <td>180.0</td>\n",
              "      <td>319.0</td>\n",
              "      <td>4918.0</td>\n",
              "    </tr>\n",
              "    <tr>\n",
              "      <th>campaign</th>\n",
              "      <td>45211.0</td>\n",
              "      <td>2.763841</td>\n",
              "      <td>3.098021</td>\n",
              "      <td>1.0</td>\n",
              "      <td>1.0</td>\n",
              "      <td>2.0</td>\n",
              "      <td>3.0</td>\n",
              "      <td>63.0</td>\n",
              "    </tr>\n",
              "    <tr>\n",
              "      <th>pdays</th>\n",
              "      <td>45211.0</td>\n",
              "      <td>40.197828</td>\n",
              "      <td>100.128746</td>\n",
              "      <td>-1.0</td>\n",
              "      <td>-1.0</td>\n",
              "      <td>-1.0</td>\n",
              "      <td>-1.0</td>\n",
              "      <td>871.0</td>\n",
              "    </tr>\n",
              "    <tr>\n",
              "      <th>previous</th>\n",
              "      <td>45211.0</td>\n",
              "      <td>0.580323</td>\n",
              "      <td>2.303441</td>\n",
              "      <td>0.0</td>\n",
              "      <td>0.0</td>\n",
              "      <td>0.0</td>\n",
              "      <td>0.0</td>\n",
              "      <td>275.0</td>\n",
              "    </tr>\n",
              "  </tbody>\n",
              "</table>\n",
              "</div>\n",
              "      <button class=\"colab-df-convert\" onclick=\"convertToInteractive('df-11a8f108-1f51-4add-a9c1-4351de8eb0d5')\"\n",
              "              title=\"Convert this dataframe to an interactive table.\"\n",
              "              style=\"display:none;\">\n",
              "        \n",
              "  <svg xmlns=\"http://www.w3.org/2000/svg\" height=\"24px\"viewBox=\"0 0 24 24\"\n",
              "       width=\"24px\">\n",
              "    <path d=\"M0 0h24v24H0V0z\" fill=\"none\"/>\n",
              "    <path d=\"M18.56 5.44l.94 2.06.94-2.06 2.06-.94-2.06-.94-.94-2.06-.94 2.06-2.06.94zm-11 1L8.5 8.5l.94-2.06 2.06-.94-2.06-.94L8.5 2.5l-.94 2.06-2.06.94zm10 10l.94 2.06.94-2.06 2.06-.94-2.06-.94-.94-2.06-.94 2.06-2.06.94z\"/><path d=\"M17.41 7.96l-1.37-1.37c-.4-.4-.92-.59-1.43-.59-.52 0-1.04.2-1.43.59L10.3 9.45l-7.72 7.72c-.78.78-.78 2.05 0 2.83L4 21.41c.39.39.9.59 1.41.59.51 0 1.02-.2 1.41-.59l7.78-7.78 2.81-2.81c.8-.78.8-2.07 0-2.86zM5.41 20L4 18.59l7.72-7.72 1.47 1.35L5.41 20z\"/>\n",
              "  </svg>\n",
              "      </button>\n",
              "      \n",
              "  <style>\n",
              "    .colab-df-container {\n",
              "      display:flex;\n",
              "      flex-wrap:wrap;\n",
              "      gap: 12px;\n",
              "    }\n",
              "\n",
              "    .colab-df-convert {\n",
              "      background-color: #E8F0FE;\n",
              "      border: none;\n",
              "      border-radius: 50%;\n",
              "      cursor: pointer;\n",
              "      display: none;\n",
              "      fill: #1967D2;\n",
              "      height: 32px;\n",
              "      padding: 0 0 0 0;\n",
              "      width: 32px;\n",
              "    }\n",
              "\n",
              "    .colab-df-convert:hover {\n",
              "      background-color: #E2EBFA;\n",
              "      box-shadow: 0px 1px 2px rgba(60, 64, 67, 0.3), 0px 1px 3px 1px rgba(60, 64, 67, 0.15);\n",
              "      fill: #174EA6;\n",
              "    }\n",
              "\n",
              "    [theme=dark] .colab-df-convert {\n",
              "      background-color: #3B4455;\n",
              "      fill: #D2E3FC;\n",
              "    }\n",
              "\n",
              "    [theme=dark] .colab-df-convert:hover {\n",
              "      background-color: #434B5C;\n",
              "      box-shadow: 0px 1px 3px 1px rgba(0, 0, 0, 0.15);\n",
              "      filter: drop-shadow(0px 1px 2px rgba(0, 0, 0, 0.3));\n",
              "      fill: #FFFFFF;\n",
              "    }\n",
              "  </style>\n",
              "\n",
              "      <script>\n",
              "        const buttonEl =\n",
              "          document.querySelector('#df-11a8f108-1f51-4add-a9c1-4351de8eb0d5 button.colab-df-convert');\n",
              "        buttonEl.style.display =\n",
              "          google.colab.kernel.accessAllowed ? 'block' : 'none';\n",
              "\n",
              "        async function convertToInteractive(key) {\n",
              "          const element = document.querySelector('#df-11a8f108-1f51-4add-a9c1-4351de8eb0d5');\n",
              "          const dataTable =\n",
              "            await google.colab.kernel.invokeFunction('convertToInteractive',\n",
              "                                                     [key], {});\n",
              "          if (!dataTable) return;\n",
              "\n",
              "          const docLinkHtml = 'Like what you see? Visit the ' +\n",
              "            '<a target=\"_blank\" href=https://colab.research.google.com/notebooks/data_table.ipynb>data table notebook</a>'\n",
              "            + ' to learn more about interactive tables.';\n",
              "          element.innerHTML = '';\n",
              "          dataTable['output_type'] = 'display_data';\n",
              "          await google.colab.output.renderOutput(dataTable, element);\n",
              "          const docLink = document.createElement('div');\n",
              "          docLink.innerHTML = docLinkHtml;\n",
              "          element.appendChild(docLink);\n",
              "        }\n",
              "      </script>\n",
              "    </div>\n",
              "  </div>\n",
              "  "
            ]
          },
          "metadata": {},
          "execution_count": 7
        }
      ],
      "source": [
        "#Now to Get the statistical summary\n",
        "data.describe().T"
      ]
    },
    {
      "cell_type": "markdown",
      "metadata": {
        "id": "WYHKmCGzvQvT"
      },
      "source": [
        ".unique() returns the unique values in a categorical column of the dataset"
      ]
    },
    {
      "cell_type": "code",
      "execution_count": null,
      "metadata": {
        "id": "nrNZgJzptOfY",
        "colab": {
          "base_uri": "https://localhost:8080/"
        },
        "outputId": "de9410bd-3790-466d-81a7-12a001c9871b"
      },
      "outputs": [
        {
          "output_type": "stream",
          "name": "stdout",
          "text": [
            "Unique values in job are ['management' 'technician' 'entrepreneur' 'blue-collar' 'unknown'\n",
            " 'retired' 'admin.' 'services' 'self-employed' 'unemployed' 'housemaid'\n",
            " 'student']\n",
            "----------------------------------\n",
            "Unique values in marital are ['married' 'single' 'divorced']\n",
            "----------------------------------\n",
            "Unique values in education are ['tertiary' 'secondary' 'unknown' 'primary']\n",
            "----------------------------------\n",
            "Unique values in default are ['no' 'yes']\n",
            "----------------------------------\n",
            "Unique values in housing are ['yes' 'no']\n",
            "----------------------------------\n",
            "Unique values in loan are ['no' 'yes']\n",
            "----------------------------------\n",
            "Unique values in contact are ['unknown' 'cellular' 'telephone']\n",
            "----------------------------------\n",
            "Unique values in month are ['may' 'jun' 'jul' 'aug' 'oct' 'nov' 'dec' 'jan' 'feb' 'mar' 'apr' 'sep']\n",
            "----------------------------------\n",
            "Unique values in poutcome are ['unknown' 'failure' 'other' 'success']\n",
            "----------------------------------\n",
            "Unique values in y are ['no' 'yes']\n",
            "----------------------------------\n"
          ]
        }
      ],
      "source": [
        "#Unique and missing values\n",
        "#writing a function to get all unique values in the categorical variables\n",
        "def uni_val(df):\n",
        "  cols = df.columns\n",
        "  for i in cols:\n",
        "    if df[i].dtype == 'O':\n",
        "      print('Unique values in', i, 'are', df[i].unique())\n",
        "      print('----------------------------------')\n",
        "\n",
        "uni_val(data)"
      ]
    },
    {
      "cell_type": "code",
      "execution_count": null,
      "metadata": {
        "id": "OTb1qUL6MucY"
      },
      "outputs": [],
      "source": [
        "def fig_size(a, b):\n",
        "  plt.figure(figsize=(a, b))\n",
        "\n",
        "def get_value(figure):\n",
        "  for p in figure.patches:\n",
        "    figure.annotate(format(p.get_height()), (p.get_x() + p.get_width() / 2.,\n",
        "                                   p.get_width()), ha = 'center', va = 'center',\n",
        "                    abtext = (0, 10), textcoords = 'offset points')\n",
        "\n",
        "def fig_att(figure, title, titlex, titley, size, sizexy, weight):\n",
        "  figure.set_title(title, size = size, weight=weight)\n",
        "  figure.set_xlabel(titlex, size = sizexy, weight=weight)\n",
        "  figure.set_ylabel(titley, size = sizexy, weight=weight)\n",
        "\n",
        "def rotate(figure, rotation):\n",
        "  for item in figure.get_xticklabels():\n",
        "    item.set_rotation(rotation)\n",
        "\n",
        "\n",
        "\n"
      ]
    },
    {
      "cell_type": "code",
      "execution_count": null,
      "metadata": {
        "id": "ZCUy0mvInTrd"
      },
      "outputs": [],
      "source": []
    },
    {
      "cell_type": "code",
      "execution_count": null,
      "metadata": {
        "id": "ubYR4P08vX2l",
        "colab": {
          "base_uri": "https://localhost:8080/"
        },
        "outputId": "196e2507-28b0-443f-fb53-972905f57367"
      },
      "outputs": [
        {
          "output_type": "execute_result",
          "data": {
            "text/plain": [
              "age          0\n",
              "job          0\n",
              "marital      0\n",
              "education    0\n",
              "default      0\n",
              "balance      0\n",
              "housing      0\n",
              "loan         0\n",
              "contact      0\n",
              "day          0\n",
              "month        0\n",
              "duration     0\n",
              "campaign     0\n",
              "pdays        0\n",
              "previous     0\n",
              "poutcome     0\n",
              "y            0\n",
              "dtype: int64"
            ]
          },
          "metadata": {},
          "execution_count": 10
        }
      ],
      "source": [
        "#getting the missing values\n",
        "data.isnull().sum()"
      ]
    },
    {
      "cell_type": "markdown",
      "metadata": {
        "id": "e9AAnCzox2tR"
      },
      "source": [
        "trying to figure out categorical values and numerical values"
      ]
    },
    {
      "cell_type": "code",
      "execution_count": null,
      "metadata": {
        "id": "qwmdXHPmnavw",
        "colab": {
          "base_uri": "https://localhost:8080/"
        },
        "outputId": "d1bfe862-56ff-43db-ccf4-ad4aece68058"
      },
      "outputs": [
        {
          "output_type": "stream",
          "name": "stdout",
          "text": [
            "Numerical dataset\n",
            "   age  balance  day  duration  campaign  pdays  previous\n",
            "0   58     2143    5       261         1     -1         0\n",
            "1   44       29    5       151         1     -1         0\n",
            "2   33        2    5        76         1     -1         0\n",
            "3   47     1506    5        92         1     -1         0\n",
            "4   33        1    5       198         1     -1         0\n"
          ]
        }
      ],
      "source": [
        "#Numerical values\n",
        "num_df = data.select_dtypes(include = 'number')\n",
        "print(\"Numerical dataset\")\n",
        "print(num_df.head())\n"
      ]
    },
    {
      "cell_type": "code",
      "execution_count": null,
      "metadata": {
        "id": "vri7tgBnv5EK",
        "colab": {
          "base_uri": "https://localhost:8080/"
        },
        "outputId": "17c4b38b-23bf-408e-9a3c-f0e4a6eb1c0e"
      },
      "outputs": [
        {
          "output_type": "stream",
          "name": "stdout",
          "text": [
            "Categorical dataset\n",
            "            job  marital  education default housing loan  contact month  \\\n",
            "0    management  married   tertiary      no     yes   no  unknown   may   \n",
            "1    technician   single  secondary      no     yes   no  unknown   may   \n",
            "2  entrepreneur  married  secondary      no     yes  yes  unknown   may   \n",
            "3   blue-collar  married    unknown      no     yes   no  unknown   may   \n",
            "4       unknown   single    unknown      no      no   no  unknown   may   \n",
            "\n",
            "  poutcome   y  \n",
            "0  unknown  no  \n",
            "1  unknown  no  \n",
            "2  unknown  no  \n",
            "3  unknown  no  \n",
            "4  unknown  no  \n"
          ]
        }
      ],
      "source": [
        "#categorical values\n",
        "cat_df = data.select_dtypes(exclude = 'number')\n",
        "print(\"Categorical dataset\")\n",
        "print(cat_df.head())"
      ]
    },
    {
      "cell_type": "markdown",
      "metadata": {
        "id": "bUrd5iKA1jUM"
      },
      "source": [
        ".select_dtypes(exclude = 'number') returns all the columns that does not have a numerical data type"
      ]
    },
    {
      "cell_type": "code",
      "execution_count": null,
      "metadata": {
        "id": "J1zlFSVPlyhv",
        "colab": {
          "base_uri": "https://localhost:8080/"
        },
        "outputId": "0994149f-7aa2-45b8-a248-7ba07f388394"
      },
      "outputs": [
        {
          "output_type": "stream",
          "name": "stdout",
          "text": [
            "Value count in y\n",
            "#############\n",
            " no     39922\n",
            "yes     5289\n",
            "Name: y, dtype: int64\n",
            "\n",
            "Percentage of value count in y \n",
            " ###################\n",
            " no     88.30152\n",
            "yes    11.69848\n",
            "Name: y, dtype: float64\n"
          ]
        }
      ],
      "source": [
        "print(\"Value count in y\\n#############\\n\", data.y.value_counts())\n",
        "print(\"\\nPercentage of value count in y \\n ###################\\n\",\n",
        "      data.y.value_counts(normalize = True)*100)"
      ]
    },
    {
      "cell_type": "markdown",
      "metadata": {
        "id": "zuyr8xBpmjQA"
      },
      "source": [
        "we can clearly see that the dataset is imbalanced with only 11.7 percent of client has taken the bank term deposit."
      ]
    },
    {
      "cell_type": "code",
      "execution_count": null,
      "metadata": {
        "id": "W2u9AkFW0_xg",
        "colab": {
          "base_uri": "https://localhost:8080/",
          "height": 408
        },
        "outputId": "4843d62e-5aa9-4c27-fcce-83fb5f297316"
      },
      "outputs": [
        {
          "output_type": "display_data",
          "data": {
            "text/plain": [
              "<Figure size 2000x1000 with 2 Axes>"
            ],
            "image/png": "[encoded data removed]"
          },
          "metadata": {}
        }
      ],
      "source": [
        "#using heatmap to visualize correlation between the columns\n",
        "fig_size(20,10)\n",
        "ax = sns.heatmap(data.corr(), annot = True, fmt = '.1g',\n",
        "                 vmin = -1, vmax = 1, center = 0)\n",
        "\n",
        "fig_att(ax, \"Heatmap\", \"Features\", \"Features\", 35, 25, \"bold\")\n",
        "\n",
        "\n",
        "plt.show()"
      ]
    },
    {
      "cell_type": "markdown",
      "metadata": {
        "id": "sIoIrQRO6Czq"
      },
      "source": [
        "Seaborn boxplot is one of the ways of checking a dataset for outliers"
      ]
    },
    {
      "cell_type": "code",
      "execution_count": null,
      "metadata": {
        "id": "_U0DbzEjoCBw",
        "colab": {
          "base_uri": "https://localhost:8080/",
          "height": 270
        },
        "outputId": "50906b5f-0fa2-4345-ab68-2a637d74167d"
      },
      "outputs": [
        {
          "output_type": "execute_result",
          "data": {
            "text/plain": [
              "   age           job  marital  education default  balance housing loan  \\\n",
              "0   58    management  married   tertiary      no     2143     yes   no   \n",
              "1   44    technician   single  secondary      no       29     yes   no   \n",
              "2   33  entrepreneur  married  secondary      no        2     yes  yes   \n",
              "3   47   blue-collar  married    unknown      no     1506     yes   no   \n",
              "4   33       unknown   single    unknown      no        1      no   no   \n",
              "\n",
              "   contact  day month  duration  campaign  pdays  previous poutcome   y  \n",
              "0  unknown    5   may       261         1     -1         0  unknown  no  \n",
              "1  unknown    5   may       151         1     -1         0  unknown  no  \n",
              "2  unknown    5   may        76         1     -1         0  unknown  no  \n",
              "3  unknown    5   may        92         1     -1         0  unknown  no  \n",
              "4  unknown    5   may       198         1     -1         0  unknown  no  "
            ],
            "text/html": [
              "\n",
              "  <div id=\"df-20f25696-36ee-4981-884e-65390197c4c5\">\n",
              "    <div class=\"colab-df-container\">\n",
              "      <div>\n",
              "<style scoped>\n",
              "    .dataframe tbody tr th:only-of-type {\n",
              "        vertical-align: middle;\n",
              "    }\n",
              "\n",
              "    .dataframe tbody tr th {\n",
              "        vertical-align: top;\n",
              "    }\n",
              "\n",
              "    .dataframe thead th {\n",
              "        text-align: right;\n",
              "    }\n",
              "</style>\n",
              "<table border=\"1\" class=\"dataframe\">\n",
              "  <thead>\n",
              "    <tr style=\"text-align: right;\">\n",
              "      <th></th>\n",
              "      <th>age</th>\n",
              "      <th>job</th>\n",
              "      <th>marital</th>\n",
              "      <th>education</th>\n",
              "      <th>default</th>\n",
              "      <th>balance</th>\n",
              "      <th>housing</th>\n",
              "      <th>loan</th>\n",
              "      <th>contact</th>\n",
              "      <th>day</th>\n",
              "      <th>month</th>\n",
              "      <th>duration</th>\n",
              "      <th>campaign</th>\n",
              "      <th>pdays</th>\n",
              "      <th>previous</th>\n",
              "      <th>poutcome</th>\n",
              "      <th>y</th>\n",
              "    </tr>\n",
              "  </thead>\n",
              "  <tbody>\n",
              "    <tr>\n",
              "      <th>0</th>\n",
              "      <td>58</td>\n",
              "      <td>management</td>\n",
              "      <td>married</td>\n",
              "      <td>tertiary</td>\n",
              "      <td>no</td>\n",
              "      <td>2143</td>\n",
              "      <td>yes</td>\n",
              "      <td>no</td>\n",
              "      <td>unknown</td>\n",
              "      <td>5</td>\n",
              "      <td>may</td>\n",
              "      <td>261</td>\n",
              "      <td>1</td>\n",
              "      <td>-1</td>\n",
              "      <td>0</td>\n",
              "      <td>unknown</td>\n",
              "      <td>no</td>\n",
              "    </tr>\n",
              "    <tr>\n",
              "      <th>1</th>\n",
              "      <td>44</td>\n",
              "      <td>technician</td>\n",
              "      <td>single</td>\n",
              "      <td>secondary</td>\n",
              "      <td>no</td>\n",
              "      <td>29</td>\n",
              "      <td>yes</td>\n",
              "      <td>no</td>\n",
              "      <td>unknown</td>\n",
              "      <td>5</td>\n",
              "      <td>may</td>\n",
              "      <td>151</td>\n",
              "      <td>1</td>\n",
              "      <td>-1</td>\n",
              "      <td>0</td>\n",
              "      <td>unknown</td>\n",
              "      <td>no</td>\n",
              "    </tr>\n",
              "    <tr>\n",
              "      <th>2</th>\n",
              "      <td>33</td>\n",
              "      <td>entrepreneur</td>\n",
              "      <td>married</td>\n",
              "      <td>secondary</td>\n",
              "      <td>no</td>\n",
              "      <td>2</td>\n",
              "      <td>yes</td>\n",
              "      <td>yes</td>\n",
              "      <td>unknown</td>\n",
              "      <td>5</td>\n",
              "      <td>may</td>\n",
              "      <td>76</td>\n",
              "      <td>1</td>\n",
              "      <td>-1</td>\n",
              "      <td>0</td>\n",
              "      <td>unknown</td>\n",
              "      <td>no</td>\n",
              "    </tr>\n",
              "    <tr>\n",
              "      <th>3</th>\n",
              "      <td>47</td>\n",
              "      <td>blue-collar</td>\n",
              "      <td>married</td>\n",
              "      <td>unknown</td>\n",
              "      <td>no</td>\n",
              "      <td>1506</td>\n",
              "      <td>yes</td>\n",
              "      <td>no</td>\n",
              "      <td>unknown</td>\n",
              "      <td>5</td>\n",
              "      <td>may</td>\n",
              "      <td>92</td>\n",
              "      <td>1</td>\n",
              "      <td>-1</td>\n",
              "      <td>0</td>\n",
              "      <td>unknown</td>\n",
              "      <td>no</td>\n",
              "    </tr>\n",
              "    <tr>\n",
              "      <th>4</th>\n",
              "      <td>33</td>\n",
              "      <td>unknown</td>\n",
              "      <td>single</td>\n",
              "      <td>unknown</td>\n",
              "      <td>no</td>\n",
              "      <td>1</td>\n",
              "      <td>no</td>\n",
              "      <td>no</td>\n",
              "      <td>unknown</td>\n",
              "      <td>5</td>\n",
              "      <td>may</td>\n",
              "      <td>198</td>\n",
              "      <td>1</td>\n",
              "      <td>-1</td>\n",
              "      <td>0</td>\n",
              "      <td>unknown</td>\n",
              "      <td>no</td>\n",
              "    </tr>\n",
              "  </tbody>\n",
              "</table>\n",
              "</div>\n",
              "      <button class=\"colab-df-convert\" onclick=\"convertToInteractive('df-20f25696-36ee-4981-884e-65390197c4c5')\"\n",
              "              title=\"Convert this dataframe to an interactive table.\"\n",
              "              style=\"display:none;\">\n",
              "        \n",
              "  <svg xmlns=\"http://www.w3.org/2000/svg\" height=\"24px\"viewBox=\"0 0 24 24\"\n",
              "       width=\"24px\">\n",
              "    <path d=\"M0 0h24v24H0V0z\" fill=\"none\"/>\n",
              "    <path d=\"M18.56 5.44l.94 2.06.94-2.06 2.06-.94-2.06-.94-.94-2.06-.94 2.06-2.06.94zm-11 1L8.5 8.5l.94-2.06 2.06-.94-2.06-.94L8.5 2.5l-.94 2.06-2.06.94zm10 10l.94 2.06.94-2.06 2.06-.94-2.06-.94-.94-2.06-.94 2.06-2.06.94z\"/><path d=\"M17.41 7.96l-1.37-1.37c-.4-.4-.92-.59-1.43-.59-.52 0-1.04.2-1.43.59L10.3 9.45l-7.72 7.72c-.78.78-.78 2.05 0 2.83L4 21.41c.39.39.9.59 1.41.59.51 0 1.02-.2 1.41-.59l7.78-7.78 2.81-2.81c.8-.78.8-2.07 0-2.86zM5.41 20L4 18.59l7.72-7.72 1.47 1.35L5.41 20z\"/>\n",
              "  </svg>\n",
              "      </button>\n",
              "      \n",
              "  <style>\n",
              "    .colab-df-container {\n",
              "      display:flex;\n",
              "      flex-wrap:wrap;\n",
              "      gap: 12px;\n",
              "    }\n",
              "\n",
              "    .colab-df-convert {\n",
              "      background-color: #E8F0FE;\n",
              "      border: none;\n",
              "      border-radius: 50%;\n",
              "      cursor: pointer;\n",
              "      display: none;\n",
              "      fill: #1967D2;\n",
              "      height: 32px;\n",
              "      padding: 0 0 0 0;\n",
              "      width: 32px;\n",
              "    }\n",
              "\n",
              "    .colab-df-convert:hover {\n",
              "      background-color: #E2EBFA;\n",
              "      box-shadow: 0px 1px 2px rgba(60, 64, 67, 0.3), 0px 1px 3px 1px rgba(60, 64, 67, 0.15);\n",
              "      fill: #174EA6;\n",
              "    }\n",
              "\n",
              "    [theme=dark] .colab-df-convert {\n",
              "      background-color: #3B4455;\n",
              "      fill: #D2E3FC;\n",
              "    }\n",
              "\n",
              "    [theme=dark] .colab-df-convert:hover {\n",
              "      background-color: #434B5C;\n",
              "      box-shadow: 0px 1px 3px 1px rgba(0, 0, 0, 0.15);\n",
              "      filter: drop-shadow(0px 1px 2px rgba(0, 0, 0, 0.3));\n",
              "      fill: #FFFFFF;\n",
              "    }\n",
              "  </style>\n",
              "\n",
              "      <script>\n",
              "        const buttonEl =\n",
              "          document.querySelector('#df-20f25696-36ee-4981-884e-65390197c4c5 button.colab-df-convert');\n",
              "        buttonEl.style.display =\n",
              "          google.colab.kernel.accessAllowed ? 'block' : 'none';\n",
              "\n",
              "        async function convertToInteractive(key) {\n",
              "          const element = document.querySelector('#df-20f25696-36ee-4981-884e-65390197c4c5');\n",
              "          const dataTable =\n",
              "            await google.colab.kernel.invokeFunction('convertToInteractive',\n",
              "                                                     [key], {});\n",
              "          if (!dataTable) return;\n",
              "\n",
              "          const docLinkHtml = 'Like what you see? Visit the ' +\n",
              "            '<a target=\"_blank\" href=https://colab.research.google.com/notebooks/data_table.ipynb>data table notebook</a>'\n",
              "            + ' to learn more about interactive tables.';\n",
              "          element.innerHTML = '';\n",
              "          dataTable['output_type'] = 'display_data';\n",
              "          await google.colab.output.renderOutput(dataTable, element);\n",
              "          const docLink = document.createElement('div');\n",
              "          docLink.innerHTML = docLinkHtml;\n",
              "          element.appendChild(docLink);\n",
              "        }\n",
              "      </script>\n",
              "    </div>\n",
              "  </div>\n",
              "  "
            ]
          },
          "metadata": {},
          "execution_count": 15
        }
      ],
      "source": [
        "data_new = data.copy(deep = True)\n",
        "data_new.head()"
      ]
    },
    {
      "cell_type": "code",
      "execution_count": null,
      "metadata": {
        "id": "Wwwh1KkN5_sj",
        "colab": {
          "base_uri": "https://localhost:8080/",
          "height": 1000
        },
        "outputId": "7d68a275-a8a3-459c-b905-6dbabf588a38"
      },
      "outputs": [
        {
          "output_type": "stream",
          "name": "stdout",
          "text": [
            "age\n"
          ]
        },
        {
          "output_type": "display_data",
          "data": {
            "text/plain": [
              "<Figure size 640x480 with 1 Axes>"
            ],
            "image/png": "[encoded data removed]"
          },
          "metadata": {}
        },
        {
          "output_type": "stream",
          "name": "stdout",
          "text": [
            "balance\n"
          ]
        },
        {
          "output_type": "display_data",
          "data": {
            "text/plain": [
              "<Figure size 640x480 with 1 Axes>"
            ],
            "image/png": "[encoded data removed]"
          },
          "metadata": {}
        },
        {
          "output_type": "stream",
          "name": "stdout",
          "text": [
            "day\n"
          ]
        },
        {
          "output_type": "display_data",
          "data": {
            "text/plain": [
              "<Figure size 640x480 with 1 Axes>"
            ],
            "image/png": "[encoded data removed]"
          },
          "metadata": {}
        },
        {
          "output_type": "stream",
          "name": "stdout",
          "text": [
            "duration\n"
          ]
        },
        {
          "output_type": "display_data",
          "data": {
            "text/plain": [
              "<Figure size 640x480 with 1 Axes>"
            ],
            "image/png": "[encoded data removed]"
          },
          "metadata": {}
        },
        {
          "output_type": "stream",
          "name": "stdout",
          "text": [
            "campaign\n"
          ]
        },
        {
          "output_type": "display_data",
          "data": {
            "text/plain": [
              "<Figure size 640x480 with 1 Axes>"
            ],
            "image/png": "[encoded data removed]"
          },
          "metadata": {}
        },
        {
          "output_type": "stream",
          "name": "stdout",
          "text": [
            "pdays\n"
          ]
        },
        {
          "output_type": "display_data",
          "data": {
            "text/plain": [
              "<Figure size 640x480 with 1 Axes>"
            ],
            "image/png": "[encoded data removed]"
          },
          "metadata": {}
        },
        {
          "output_type": "stream",
          "name": "stdout",
          "text": [
            "previous\n"
          ]
        },
        {
          "output_type": "display_data",
          "data": {
            "text/plain": [
              "<Figure size 640x480 with 1 Axes>"
            ],
            "image/png": "[encoded data removed]"
          },
          "metadata": {}
        }
      ],
      "source": [
        "#using boxplot to identify outliers\n",
        "for col in num_df:\n",
        "  print(col)\n",
        "  ax = sns.boxplot(num_df[col])\n",
        "  plt.show()"
      ]
    },
    {
      "cell_type": "code",
      "execution_count": null,
      "metadata": {
        "id": "bPzlfHQbnj38",
        "colab": {
          "base_uri": "https://localhost:8080/"
        },
        "outputId": "6d85f7e3-ba37-42af-efbf-cd4df4a64502"
      },
      "outputs": [
        {
          "output_type": "stream",
          "name": "stdout",
          "text": [
            "column 1: age\n",
            "------------------------\n",
            "1st quantile =>  33.0\n",
            "3rd quantile =>  48.0\n",
            "IQR => 15.0\n",
            "fence_low => 10.5\n",
            "fence_high => 70.5\n",
            "\n",
            "------------------------\n",
            "column 2: balance\n",
            "------------------------\n",
            "1st quantile =>  72.0\n",
            "3rd quantile =>  1428.0\n",
            "IQR => 1356.0\n",
            "fence_low => -1962.0\n",
            "fence_high => 3462.0\n",
            "\n",
            "------------------------\n",
            "column 3: day\n",
            "------------------------\n",
            "1st quantile =>  8.0\n",
            "3rd quantile =>  21.0\n",
            "IQR => 13.0\n",
            "fence_low => -11.5\n",
            "fence_high => 40.5\n",
            "\n",
            "------------------------\n",
            "column 4: duration\n",
            "------------------------\n",
            "1st quantile =>  103.0\n",
            "3rd quantile =>  319.0\n",
            "IQR => 216.0\n",
            "fence_low => -221.0\n",
            "fence_high => 643.0\n",
            "\n",
            "------------------------\n",
            "column 5: campaign\n",
            "------------------------\n",
            "1st quantile =>  1.0\n",
            "3rd quantile =>  3.0\n",
            "IQR => 2.0\n",
            "fence_low => -2.0\n",
            "fence_high => 6.0\n",
            "\n",
            "------------------------\n",
            "column 6: pdays\n",
            "------------------------\n",
            "1st quantile =>  -1.0\n",
            "3rd quantile =>  -1.0\n",
            "IQR => 0.0\n",
            "fence_low => -1.0\n",
            "fence_high => -1.0\n",
            "\n",
            "------------------------\n",
            "column 7: previous\n",
            "------------------------\n",
            "1st quantile =>  0.0\n",
            "3rd quantile =>  0.0\n",
            "IQR => 0.0\n",
            "fence_low => 0.0\n",
            "fence_high => 0.0\n",
            "\n",
            "------------------------\n"
          ]
        }
      ],
      "source": [
        "#treating with the outliers\n",
        "# treating outliers\n",
        "count = 1\n",
        "for col in num_df:\n",
        "    Q1 = num_df[col].quantile(0.25)\n",
        "    Q3 = num_df[col].quantile(0.75)\n",
        "    IQR = Q3 - Q1\n",
        "    print(f'column {count}: {num_df[col].name}\\n------------------------')\n",
        "    print('1st quantile => ',Q1)\n",
        "    print('3rd quantile => ',Q3)\n",
        "    print('IQR =>',IQR)\n",
        "\n",
        "    fence_low  = Q1-(1.5*IQR)\n",
        "    print('fence_low => ' + str(fence_low))\n",
        "\n",
        "    fence_high = Q3+(1.5*IQR)\n",
        "    print('fence_high => ' + str(fence_high))\n",
        "    print(\"\\n------------------------\")\n",
        "\n",
        "    count = count + 1\n",
        "\n",
        "\n",
        "    data_new[col][((data_new[col] < fence_low)|(data_new[col] > fence_high))] = np.nan\n",
        "\n"
      ]
    },
    {
      "cell_type": "code",
      "execution_count": null,
      "metadata": {
        "id": "2FMm32eOqnQs",
        "colab": {
          "base_uri": "https://localhost:8080/"
        },
        "outputId": "217a3c09-bf07-4f32-f7e4-bb0423574f97"
      },
      "outputs": [
        {
          "output_type": "stream",
          "name": "stdout",
          "text": [
            "age          487\n",
            "balance     4729\n",
            "day            0\n",
            "duration    3235\n",
            "campaign    3064\n",
            "pdays       8257\n",
            "previous    8257\n",
            "dtype: int64\n"
          ]
        }
      ],
      "source": [
        "#checking the columns where we will change the outliers with the nan value\n",
        "print(data_new.select_dtypes(include = 'number').isnull().sum())"
      ]
    },
    {
      "cell_type": "code",
      "source": [
        "#Dealing with the nan values\n",
        "\n",
        "col_mod = ['age', 'pdays']\n",
        "for col in col_mod:\n",
        "  data_new[col].fillna(data_new[col].mode()[0], inplace = True)\n",
        "\n",
        "col_med = ['duration', 'campaign', 'previous', 'balance']\n",
        "for col in col_med:\n",
        "  data_new[col].fillna(data_new[col].median(), inplace = True)\n",
        "\n"
      ],
      "metadata": {
        "id": "4TwPMzmpqW7w"
      },
      "execution_count": null,
      "outputs": []
    },
    {
      "cell_type": "code",
      "source": [
        "#creating boxplot again in order to see if the outliers has been removed or not\n",
        "for col in data_new.select_dtypes(include = 'number'):\n",
        "  print(col)\n",
        "  ax = sns.boxplot(data_new.select_dtypes(include = 'number')[col])\n",
        "  plt.show()"
      ],
      "metadata": {
        "colab": {
          "base_uri": "https://localhost:8080/",
          "height": 1000
        },
        "id": "F5ZtW_rCrEQV",
        "outputId": "5ca35906-9c75-4da4-be13-394cb1639983"
      },
      "execution_count": null,
      "outputs": [
        {
          "output_type": "stream",
          "name": "stdout",
          "text": [
            "age\n"
          ]
        },
        {
          "output_type": "display_data",
          "data": {
            "text/plain": [
              "<Figure size 640x480 with 1 Axes>"
            ],
            "image/png": "[encoded data removed]"
          },
          "metadata": {}
        },
        {
          "output_type": "stream",
          "name": "stdout",
          "text": [
            "balance\n"
          ]
        },
        {
          "output_type": "display_data",
          "data": {
            "text/plain": [
              "<Figure size 640x480 with 1 Axes>"
            ],
            "image/png": "[encoded data removed]"
          },
          "metadata": {}
        },
        {
          "output_type": "stream",
          "name": "stdout",
          "text": [
            "day\n"
          ]
        },
        {
          "output_type": "display_data",
          "data": {
            "text/plain": [
              "<Figure size 640x480 with 1 Axes>"
            ],
            "image/png": "[encoded data removed]"
          },
          "metadata": {}
        },
        {
          "output_type": "stream",
          "name": "stdout",
          "text": [
            "duration\n"
          ]
        },
        {
          "output_type": "display_data",
          "data": {
            "text/plain": [
              "<Figure size 640x480 with 1 Axes>"
            ],
            "image/png": "[encoded data removed]"
          },
          "metadata": {}
        },
        {
          "output_type": "stream",
          "name": "stdout",
          "text": [
            "campaign\n"
          ]
        },
        {
          "output_type": "display_data",
          "data": {
            "text/plain": [
              "<Figure size 640x480 with 1 Axes>"
            ],
            "image/png": "[encoded data removed]"
          },
          "metadata": {}
        },
        {
          "output_type": "stream",
          "name": "stdout",
          "text": [
            "pdays\n"
          ]
        },
        {
          "output_type": "display_data",
          "data": {
            "text/plain": [
              "<Figure size 640x480 with 1 Axes>"
            ],
            "image/png": "[encoded data removed]"
          },
          "metadata": {}
        },
        {
          "output_type": "stream",
          "name": "stdout",
          "text": [
            "previous\n"
          ]
        },
        {
          "output_type": "display_data",
          "data": {
            "text/plain": [
              "<Figure size 640x480 with 1 Axes>"
            ],
            "image/png": "[encoded data removed]"
          },
          "metadata": {}
        }
      ]
    },
    {
      "cell_type": "code",
      "source": [
        "data_new.to_csv('bank_data_without_outliers.csv', index = False)"
      ],
      "metadata": {
        "id": "PIhKM8zDrrSm"
      },
      "execution_count": null,
      "outputs": []
    },
    {
      "cell_type": "code",
      "execution_count": null,
      "metadata": {
        "id": "8H7jh6sg-JSq"
      },
      "outputs": [],
      "source": [
        "from sklearn.preprocessing import StandardScaler\n",
        "\n",
        "class preprocess:\n",
        "  cat_cols = ['job', 'marital', 'education', 'housing', 'loan', 'contact',\n",
        "            'month', 'poutcome']\n",
        "\n",
        "  num_cols = ['age', 'balance', 'day', 'duration', 'campaign',\n",
        "            'pdays', 'previous']\n",
        "\n",
        "  def encode(self, df):\n",
        "    cat_var_enc = pd.get_dummies(df[self.cat_cols], drop_first = False)\n",
        "    return cat_var_enc\n",
        "\n",
        "  def preprocessed(self, df):\n",
        "    df = pd.concat([df, self.encode(df)], axis = 1)\n",
        "    cat_cols_all = list(self.encode(df).columns)\n",
        "    cols_input = self.num_cols + cat_cols_all\n",
        "    pp_df = df[cols_input + ['subscribed']]\n",
        "    return pp_df\n",
        "\n",
        "  def rescale(self, df):\n",
        "    scaler = StandardScaler()\n",
        "    df[self.num_cols] = scaler.fit_transform(df[self.num_cols])\n",
        "    return df\n",
        "\n",
        "\n",
        "preprocess.encode = classmethod(preprocess.encode)\n",
        "encode = preprocess.encode\n",
        "preprocess.preprocessed = classmethod(preprocess.preprocessed)\n",
        "preprocessed = preprocess.preprocessed\n",
        "preprocess.rescale = classmethod(preprocess.rescale)\n",
        "rescale = preprocess.rescale\n",
        "\n",
        "\n"
      ]
    },
    {
      "cell_type": "code",
      "source": [
        "#from preprocess import encode, preprocessed, rescale\n",
        "from sklearn.model_selection import train_test_split\n",
        "from sklearn.decomposition import PCA\n",
        "from sklearn.manifold import TSNE\n",
        "from imblearn.over_sampling import SMOTE\\\n",
        "\n",
        "\n",
        "def data_loader(df):\n",
        "  X = df.drop(columns = [\"subscribed\", \"duration\"])\n",
        "  y = df[\"subscribed\"]\n",
        "  print(\"X shape: \", X.shape)\n",
        "  print(\"y shape: \", y.shape)\n",
        "  return X, y\n",
        "\n",
        "def split_data(X, y):\n",
        "    X_train,X_test,y_train,y_test = train_test_split(X,y,test_size = 0.1,random_state=1)\n",
        "    # printing the shape of training set\n",
        "    print(f'Train set X shape: {X_train.shape}')\n",
        "    print(f'Train set y shape: {y_train.shape}')\n",
        "    # printing the shape of test set\n",
        "    print(f'Test set X shape: {X_test.shape}')\n",
        "    print(f'Test set y shape: {y_test.shape}')\n",
        "    return X_train,X_test,y_train,y_test\n",
        "\n",
        "\n",
        "def pca(df):\n",
        "  pca = PCA()\n",
        "  pca.fit(df)\n",
        "  explained = pca.explained_variance_ratio_\n",
        "  plt.figure(figsize=(12,6))\n",
        "  plt.plot(range(1,49), explained.cumsum(), marker = 'o', linestyle = '--')\n",
        "  plt.title(\"Variance is explained with the help of components\")\n",
        "  plt.xlabel(\"No. of components\")\n",
        "  plt.ylabel(\"Cummulative Explained Variance\")\n",
        "  plt.show()\n",
        "\n",
        "#functions for dimensional reduction\n",
        "\n",
        "def dim_red(method, components, train_data, test_data):\n",
        "  if (method == 'PCA'):\n",
        "    pca = PCA(n_components=components)\n",
        "    pca.fit(train_data)\n",
        "    pca_train = pca.transform(train_data)\n",
        "    X_train_reduced = pd.DataFrame(pca_train)\n",
        "    print(\"Original Shape: \", train_data.shape)\n",
        "    print(\"transformed shape: \", X_train_reduced.shape)\n",
        "    print(\"explained variation per principle component: {}\".format(pca.explained_variance_ratio_))\n",
        "\n",
        "    pca_test = pca.transform(test_data)\n",
        "    X_test_reduced = pd.DataFrame(pca_test)\n",
        "\n",
        "  elif (method == 'TSNE'):\n",
        "    tsne = TSNE(n_components = components)\n",
        "    tsne_train = tsne.fit_transform(train_data)\n",
        "    X_train_reduced = pd.DataFrame(tsne_train)\n",
        "    print(\"Original shape: \", train_data.shape)\n",
        "    print(\"transformed shape: \", X_train_reduced.shape)\n",
        "    tsne_test = tsne.fit_tranform(test_data)\n",
        "    X_test_reduced = pd.DataFrame(tsne_test)\n",
        "\n",
        "  else:\n",
        "    print(\"Method for reducing Dimension does not found!\")\n",
        "\n",
        "  return X_train_reduced, X_test_reduced\n",
        "\n",
        "\n",
        "\n"
      ],
      "metadata": {
        "id": "_TCrPb1_w1uS"
      },
      "execution_count": null,
      "outputs": []
    },
    {
      "cell_type": "code",
      "source": [
        "def class_imb(X_data, y_data):\n",
        "  sm = SMOTE(random_state = 27)\n",
        "  X_train_smote, y_train_smote = sm.fit_resample(X_data, y_data)\n",
        "  return X_train_smote, y_train_smote\n",
        "\n"
      ],
      "metadata": {
        "id": "xyJucRJs-duY"
      },
      "execution_count": null,
      "outputs": []
    },
    {
      "cell_type": "code",
      "source": [
        "\n",
        "\n",
        "# import libraries for visualization\n",
        "import matplotlib.pyplot as plt\n",
        "import seaborn as sns\n",
        "\n",
        "# import machine learning model libraries\n",
        "from sklearn.linear_model import LogisticRegression\n",
        "from xgboost import XGBClassifier\n",
        "from sklearn.neural_network import MLPClassifier\n",
        "from sklearn.svm import SVC\n",
        "\n",
        "# import libraries for cross validation\n",
        "from sklearn.model_selection import KFold\n",
        "from sklearn.model_selection import StratifiedKFold\n",
        "from sklearn.model_selection import cross_validate\n",
        "from sklearn.model_selection import cross_val_score\n",
        "\n",
        "# import evaluation metrics\n",
        "from sklearn.metrics import accuracy_score,recall_score,precision_recall_curve, f1_score\n",
        "from sklearn.metrics import classification_report\n",
        "from sklearn.metrics import roc_auc_score\n",
        "from sklearn.metrics import roc_curve\n",
        "from sklearn.metrics import confusion_matrix"
      ],
      "metadata": {
        "id": "A0vdrHwp_Kel"
      },
      "execution_count": null,
      "outputs": []
    },
    {
      "cell_type": "code",
      "source": [
        "def model(model, cv_method, metrics, X_train, X_test, y_train):\n",
        "    if (model == 'LR'):\n",
        "        # creating an instance of the regression\n",
        "        model_inst = LogisticRegression()\n",
        "        print('Logistic Regression\\n----------------------')\n",
        "    elif (model == 'XGB'):\n",
        "        # creating an instance of the classifier\n",
        "        model_inst = XGBClassifier()\n",
        "        print('XGBoost\\n----------------------')\n",
        "    elif (model == 'MLP'):\n",
        "        # creating an instance of the classifier\n",
        "        model_inst = MLPClassifier()\n",
        "        print('Multi Layer Perceptron\\n----------------------')\n",
        "    elif (model == 'SVM'):\n",
        "        # creating an instance of the classifier\n",
        "        kernel = input('Enter the kernel (rbf, linear, or poly):')\n",
        "        model_inst = SVC(kernel=kernel, C=1.0)\n",
        "        print('Support Vector Classification\\n----------------------')\n",
        "\n",
        "    # cross validation\n",
        "    if (cv_method == 'KFold'):\n",
        "        print('Cross validation: KFold\\n--------------------------')\n",
        "        cv = KFold(n_splits=10, random_state=100, shuffle = True)\n",
        "    elif (cv_method == 'StratifiedKFold'):\n",
        "        print('Cross validation: StratifiedKFold\\n--------------------------')\n",
        "        cv = StratifiedKFold(n_splits=10, random_state=100, shuffle = True)\n",
        "    else:\n",
        "        print('Cross validation method not found!')\n",
        "    try:\n",
        "        cv_scores = cross_validate(model_inst, X_train, y_train,\n",
        "                                   cv=cv, scoring=metrics)\n",
        "        # displaying evaluation metric scores\n",
        "        cv_metric = cv_scores.keys()\n",
        "        for metric in cv_metric:\n",
        "            mean_score = cv_scores[metric].mean()*100\n",
        "            print(metric+':', '%.2f%%' % mean_score)\n",
        "            print('')\n",
        "\n",
        "    except:\n",
        "        metrics = ['accuracy', 'f1', 'precision', 'recall']\n",
        "        cv_scores = cross_validate(model_inst, X_train, y_train,\n",
        "                                   cv=cv, scoring=metrics)\n",
        "        # displaying evaluation metric scores\n",
        "        cv_metric = cv_scores.keys()\n",
        "        for metric in cv_metric:\n",
        "          mean_score = cv_scores[metric].mean()*100\n",
        "          print(metric+':', '%.2f%%' % mean_score)\n",
        "          print('')\n",
        "\n",
        "    return model_inst\n",
        "\n",
        "def prediction(model, model_name, X_train, y_train, X_test, y_test):\n",
        "  model_ = model.fit(X_train, y_train)\n",
        "  y_pred = model.predict(X_test)\n",
        "  #Get the confusion matrix\n",
        "  cf_matrix = confusion_matrix(y_test, y_pred)\n",
        "  sns.heatmap(cf_matrix, annot=True, fmt='.0f')\n",
        "  plt.title(f'{model_name} Confusion Matrix')\n",
        "  #plt.savefig(f'conf_{model_name}.png')\n",
        "  plt.show()"
      ],
      "metadata": {
        "id": "IzMO-BdE_jX5"
      },
      "execution_count": null,
      "outputs": []
    },
    {
      "cell_type": "code",
      "source": [
        "data_new = pd.read_csv('/content/bank_data_without_outliers.csv')\n",
        "data_new.name = 'New dataset'\n",
        "print(\"New Dataset\\n-------------------------\")\n",
        "print(data_new.head())\n"
      ],
      "metadata": {
        "colab": {
          "base_uri": "https://localhost:8080/"
        },
        "id": "s9wwN6lXA9s1",
        "outputId": "c0a135c6-7546-4dca-b862-448f88b29f97"
      },
      "execution_count": null,
      "outputs": [
        {
          "output_type": "stream",
          "name": "stdout",
          "text": [
            "New Dataset\n",
            "-------------------------\n",
            "    age           job  marital  education default  balance housing loan  \\\n",
            "0  58.0    management  married   tertiary      no   2143.0     yes   no   \n",
            "1  44.0    technician   single  secondary      no     29.0     yes   no   \n",
            "2  33.0  entrepreneur  married  secondary      no      2.0     yes  yes   \n",
            "3  47.0   blue-collar  married    unknown      no   1506.0     yes   no   \n",
            "4  33.0       unknown   single    unknown      no      1.0      no   no   \n",
            "\n",
            "   contact  day month  duration  campaign  pdays  previous poutcome   y  \n",
            "0  unknown    5   may     261.0       1.0   -1.0       0.0  unknown  no  \n",
            "1  unknown    5   may     151.0       1.0   -1.0       0.0  unknown  no  \n",
            "2  unknown    5   may      76.0       1.0   -1.0       0.0  unknown  no  \n",
            "3  unknown    5   may      92.0       1.0   -1.0       0.0  unknown  no  \n",
            "4  unknown    5   may     198.0       1.0   -1.0       0.0  unknown  no  \n"
          ]
        }
      ]
    },
    {
      "cell_type": "code",
      "source": [
        "encoded_data = encode(data_new)\n",
        "print(\"Encoded Data\\n-------------------------\")\n",
        "print(encoded_data.head())"
      ],
      "metadata": {
        "colab": {
          "base_uri": "https://localhost:8080/"
        },
        "id": "m0rWIuQfCVnR",
        "outputId": "9fc24cf7-9f93-400d-fd8f-36f1151f3255"
      },
      "execution_count": null,
      "outputs": [
        {
          "output_type": "stream",
          "name": "stdout",
          "text": [
            "Encoded Data\n",
            "-------------------------\n",
            "   job_admin.  job_blue-collar  job_entrepreneur  job_housemaid  \\\n",
            "0           0                0                 0              0   \n",
            "1           0                0                 0              0   \n",
            "2           0                0                 1              0   \n",
            "3           0                1                 0              0   \n",
            "4           0                0                 0              0   \n",
            "\n",
            "   job_management  job_retired  job_self-employed  job_services  job_student  \\\n",
            "0               1            0                  0             0            0   \n",
            "1               0            0                  0             0            0   \n",
            "2               0            0                  0             0            0   \n",
            "3               0            0                  0             0            0   \n",
            "4               0            0                  0             0            0   \n",
            "\n",
            "   job_technician  ...  month_jun  month_mar  month_may  month_nov  month_oct  \\\n",
            "0               0  ...          0          0          1          0          0   \n",
            "1               1  ...          0          0          1          0          0   \n",
            "2               0  ...          0          0          1          0          0   \n",
            "3               0  ...          0          0          1          0          0   \n",
            "4               0  ...          0          0          1          0          0   \n",
            "\n",
            "   month_sep  poutcome_failure  poutcome_other  poutcome_success  \\\n",
            "0          0                 0               0                 0   \n",
            "1          0                 0               0                 0   \n",
            "2          0                 0               0                 0   \n",
            "3          0                 0               0                 0   \n",
            "4          0                 0               0                 0   \n",
            "\n",
            "   poutcome_unknown  \n",
            "0                 1  \n",
            "1                 1  \n",
            "2                 1  \n",
            "3                 1  \n",
            "4                 1  \n",
            "\n",
            "[5 rows x 42 columns]\n"
          ]
        }
      ]
    },
    {
      "cell_type": "code",
      "source": [
        "data_new['subscribed'] = (data_new.y == 'yes').astype('int')\n"
      ],
      "metadata": {
        "id": "hwfeqtCECxGL"
      },
      "execution_count": null,
      "outputs": []
    },
    {
      "cell_type": "code",
      "source": [
        "preprocessed_data = preprocessed(data_new)\n",
        "print(\"Preprocessed Data\\n-------------------------\")\n",
        "print(preprocessed_data.head())\n"
      ],
      "metadata": {
        "colab": {
          "base_uri": "https://localhost:8080/"
        },
        "id": "qd-67MesCiCo",
        "outputId": "08a0c910-6f41-486b-bed8-b1e487ac0a67"
      },
      "execution_count": null,
      "outputs": [
        {
          "output_type": "stream",
          "name": "stdout",
          "text": [
            "Preprocessed Data\n",
            "-------------------------\n",
            "    age  balance  day  duration  campaign  pdays  previous  job_admin.  \\\n",
            "0  58.0   2143.0    5     261.0       1.0   -1.0       0.0           0   \n",
            "1  44.0     29.0    5     151.0       1.0   -1.0       0.0           0   \n",
            "2  33.0      2.0    5      76.0       1.0   -1.0       0.0           0   \n",
            "3  47.0   1506.0    5      92.0       1.0   -1.0       0.0           0   \n",
            "4  33.0      1.0    5     198.0       1.0   -1.0       0.0           0   \n",
            "\n",
            "   job_blue-collar  job_entrepreneur  ...  month_mar  month_may  month_nov  \\\n",
            "0                0                 0  ...          0          1          0   \n",
            "1                0                 0  ...          0          1          0   \n",
            "2                0                 1  ...          0          1          0   \n",
            "3                1                 0  ...          0          1          0   \n",
            "4                0                 0  ...          0          1          0   \n",
            "\n",
            "   month_oct  month_sep  poutcome_failure  poutcome_other  poutcome_success  \\\n",
            "0          0          0                 0               0                 0   \n",
            "1          0          0                 0               0                 0   \n",
            "2          0          0                 0               0                 0   \n",
            "3          0          0                 0               0                 0   \n",
            "4          0          0                 0               0                 0   \n",
            "\n",
            "   poutcome_unknown  subscribed  \n",
            "0                 1           0  \n",
            "1                 1           0  \n",
            "2                 1           0  \n",
            "3                 1           0  \n",
            "4                 1           0  \n",
            "\n",
            "[5 rows x 50 columns]\n"
          ]
        }
      ]
    },
    {
      "cell_type": "code",
      "source": [
        "preprocessed_data = rescale(preprocessed_data)\n",
        "print(\"Rescaled Data\\n-------------------------\")\n",
        "print(preprocessed_data.head())\n"
      ],
      "metadata": {
        "colab": {
          "base_uri": "https://localhost:8080/"
        },
        "id": "kRwsEMB7C-gh",
        "outputId": "9acb36e4-a416-4b4e-f7ec-925d62e20b36"
      },
      "execution_count": null,
      "outputs": [
        {
          "output_type": "stream",
          "name": "stdout",
          "text": [
            "Rescaled Data\n",
            "-------------------------\n",
            "        age   balance       day  duration  campaign  pdays  previous  \\\n",
            "0  1.761105  1.906525 -1.298476  0.442066 -0.882181    0.0       0.0   \n",
            "1  0.355957 -0.722790 -1.298476 -0.366769 -0.882181    0.0       0.0   \n",
            "2 -0.748088 -0.756371 -1.298476 -0.918248 -0.882181    0.0       0.0   \n",
            "3  0.657060  1.114248 -1.298476 -0.800599 -0.882181    0.0       0.0   \n",
            "4 -0.748088 -0.757615 -1.298476 -0.021176 -0.882181    0.0       0.0   \n",
            "\n",
            "   job_admin.  job_blue-collar  job_entrepreneur  ...  month_mar  month_may  \\\n",
            "0           0                0                 0  ...          0          1   \n",
            "1           0                0                 0  ...          0          1   \n",
            "2           0                0                 1  ...          0          1   \n",
            "3           0                1                 0  ...          0          1   \n",
            "4           0                0                 0  ...          0          1   \n",
            "\n",
            "   month_nov  month_oct  month_sep  poutcome_failure  poutcome_other  \\\n",
            "0          0          0          0                 0               0   \n",
            "1          0          0          0                 0               0   \n",
            "2          0          0          0                 0               0   \n",
            "3          0          0          0                 0               0   \n",
            "4          0          0          0                 0               0   \n",
            "\n",
            "   poutcome_success  poutcome_unknown  subscribed  \n",
            "0                 0                 1           0  \n",
            "1                 0                 1           0  \n",
            "2                 0                 1           0  \n",
            "3                 0                 1           0  \n",
            "4                 0                 1           0  \n",
            "\n",
            "[5 rows x 50 columns]\n"
          ]
        }
      ]
    },
    {
      "cell_type": "code",
      "source": [
        "X, y = data_loader(preprocessed_data)\n",
        "\n",
        "#split the data\n",
        "X_train, X_test, y_train, y_test = split_data(X, y)"
      ],
      "metadata": {
        "colab": {
          "base_uri": "https://localhost:8080/"
        },
        "id": "qx1JA2O8DKoo",
        "outputId": "c9e7c078-252e-429a-f717-7e136b5c674d"
      },
      "execution_count": null,
      "outputs": [
        {
          "output_type": "stream",
          "name": "stdout",
          "text": [
            "X shape:  (45211, 48)\n",
            "y shape:  (45211,)\n",
            "Train set X shape: (40689, 48)\n",
            "Train set y shape: (40689,)\n",
            "Test set X shape: (4522, 48)\n",
            "Test set y shape: (4522,)\n"
          ]
        }
      ]
    },
    {
      "cell_type": "code",
      "source": [
        "X_train"
      ],
      "metadata": {
        "colab": {
          "base_uri": "https://localhost:8080/",
          "height": 505
        },
        "id": "Zser4_pvD7dx",
        "outputId": "4dad68f9-9fbc-4cc3-e6dc-c8d3521deeb8"
      },
      "execution_count": null,
      "outputs": [
        {
          "output_type": "execute_result",
          "data": {
            "text/plain": [
              "            age   balance       day  campaign  pdays  previous  job_admin.  \\\n",
              "42864  2.764783  2.738602 -1.538792 -0.095322    0.0       0.0           0   \n",
              "29736  0.054854  2.254778 -1.418634 -0.882181    0.0       0.0           0   \n",
              "19403  1.259266  0.764751 -1.178318 -0.095322    0.0       0.0           0   \n",
              "12972 -0.547353 -0.602145 -1.058161 -0.095322    0.0       0.0           0   \n",
              "41632  2.062208 -0.757615  1.104681 -0.882181    0.0       0.0           0   \n",
              "...         ...       ...       ...       ...    ...       ...         ...   \n",
              "43723  0.958163  1.517227 -0.217055  0.691536    0.0       0.0           0   \n",
              "32511 -0.647721 -0.102152  0.143418 -0.095322    0.0       0.0           0   \n",
              "5192   0.757428 -0.324786  0.624050  3.052112    0.0       0.0           0   \n",
              "12172  0.456325  1.458770  0.503892 -0.095322    0.0       0.0           1   \n",
              "33003  0.456325 -0.324786  0.143418 -0.095322    0.0       0.0           0   \n",
              "\n",
              "       job_blue-collar  job_entrepreneur  job_housemaid  ...  month_jun  \\\n",
              "42864                0                 0              0  ...          0   \n",
              "29736                0                 0              0  ...          0   \n",
              "19403                0                 0              0  ...          0   \n",
              "12972                0                 0              0  ...          0   \n",
              "41632                0                 0              0  ...          0   \n",
              "...                ...               ...            ...  ...        ...   \n",
              "43723                0                 0              0  ...          0   \n",
              "32511                0                 0              0  ...          0   \n",
              "5192                 0                 0              0  ...          0   \n",
              "12172                0                 0              0  ...          1   \n",
              "33003                1                 0              0  ...          0   \n",
              "\n",
              "       month_mar  month_may  month_nov  month_oct  month_sep  \\\n",
              "42864          0          0          0          0          0   \n",
              "29736          0          0          0          0          0   \n",
              "19403          0          0          0          0          0   \n",
              "12972          0          0          0          0          0   \n",
              "41632          0          0          0          0          1   \n",
              "...          ...        ...        ...        ...        ...   \n",
              "43723          0          1          0          0          0   \n",
              "32511          0          0          0          0          0   \n",
              "5192           0          1          0          0          0   \n",
              "12172          0          0          0          0          0   \n",
              "33003          0          0          0          0          0   \n",
              "\n",
              "       poutcome_failure  poutcome_other  poutcome_success  poutcome_unknown  \n",
              "42864                 1               0                 0                 0  \n",
              "29736                 0               0                 0                 1  \n",
              "19403                 0               0                 0                 1  \n",
              "12972                 0               0                 0                 1  \n",
              "41632                 0               0                 0                 1  \n",
              "...                 ...             ...               ...               ...  \n",
              "43723                 0               0                 0                 1  \n",
              "32511                 0               0                 0                 1  \n",
              "5192                  0               0                 0                 1  \n",
              "12172                 0               0                 0                 1  \n",
              "33003                 0               1                 0                 0  \n",
              "\n",
              "[40689 rows x 48 columns]"
            ],
            "text/html": [
              "\n",
              "  <div id=\"df-a15b635c-324f-4bc6-b67a-aac40c3c6447\">\n",
              "    <div class=\"colab-df-container\">\n",
              "      <div>\n",
              "<style scoped>\n",
              "    .dataframe tbody tr th:only-of-type {\n",
              "        vertical-align: middle;\n",
              "    }\n",
              "\n",
              "    .dataframe tbody tr th {\n",
              "        vertical-align: top;\n",
              "    }\n",
              "\n",
              "    .dataframe thead th {\n",
              "        text-align: right;\n",
              "    }\n",
              "</style>\n",
              "<table border=\"1\" class=\"dataframe\">\n",
              "  <thead>\n",
              "    <tr style=\"text-align: right;\">\n",
              "      <th></th>\n",
              "      <th>age</th>\n",
              "      <th>balance</th>\n",
              "      <th>day</th>\n",
              "      <th>campaign</th>\n",
              "      <th>pdays</th>\n",
              "      <th>previous</th>\n",
              "      <th>job_admin.</th>\n",
              "      <th>job_blue-collar</th>\n",
              "      <th>job_entrepreneur</th>\n",
              "      <th>job_housemaid</th>\n",
              "      <th>...</th>\n",
              "      <th>month_jun</th>\n",
              "      <th>month_mar</th>\n",
              "      <th>month_may</th>\n",
              "      <th>month_nov</th>\n",
              "      <th>month_oct</th>\n",
              "      <th>month_sep</th>\n",
              "      <th>poutcome_failure</th>\n",
              "      <th>poutcome_other</th>\n",
              "      <th>poutcome_success</th>\n",
              "      <th>poutcome_unknown</th>\n",
              "    </tr>\n",
              "  </thead>\n",
              "  <tbody>\n",
              "    <tr>\n",
              "      <th>42864</th>\n",
              "      <td>2.764783</td>\n",
              "      <td>2.738602</td>\n",
              "      <td>-1.538792</td>\n",
              "      <td>-0.095322</td>\n",
              "      <td>0.0</td>\n",
              "      <td>0.0</td>\n",
              "      <td>0</td>\n",
              "      <td>0</td>\n",
              "      <td>0</td>\n",
              "      <td>0</td>\n",
              "      <td>...</td>\n",
              "      <td>0</td>\n",
              "      <td>0</td>\n",
              "      <td>0</td>\n",
              "      <td>0</td>\n",
              "      <td>0</td>\n",
              "      <td>0</td>\n",
              "      <td>1</td>\n",
              "      <td>0</td>\n",
              "      <td>0</td>\n",
              "      <td>0</td>\n",
              "    </tr>\n",
              "    <tr>\n",
              "      <th>29736</th>\n",
              "      <td>0.054854</td>\n",
              "      <td>2.254778</td>\n",
              "      <td>-1.418634</td>\n",
              "      <td>-0.882181</td>\n",
              "      <td>0.0</td>\n",
              "      <td>0.0</td>\n",
              "      <td>0</td>\n",
              "      <td>0</td>\n",
              "      <td>0</td>\n",
              "      <td>0</td>\n",
              "      <td>...</td>\n",
              "      <td>0</td>\n",
              "      <td>0</td>\n",
              "      <td>0</td>\n",
              "      <td>0</td>\n",
              "      <td>0</td>\n",
              "      <td>0</td>\n",
              "      <td>0</td>\n",
              "      <td>0</td>\n",
              "      <td>0</td>\n",
              "      <td>1</td>\n",
              "    </tr>\n",
              "    <tr>\n",
              "      <th>19403</th>\n",
              "      <td>1.259266</td>\n",
              "      <td>0.764751</td>\n",
              "      <td>-1.178318</td>\n",
              "      <td>-0.095322</td>\n",
              "      <td>0.0</td>\n",
              "      <td>0.0</td>\n",
              "      <td>0</td>\n",
              "      <td>0</td>\n",
              "      <td>0</td>\n",
              "      <td>0</td>\n",
              "      <td>...</td>\n",
              "      <td>0</td>\n",
              "      <td>0</td>\n",
              "      <td>0</td>\n",
              "      <td>0</td>\n",
              "      <td>0</td>\n",
              "      <td>0</td>\n",
              "      <td>0</td>\n",
              "      <td>0</td>\n",
              "      <td>0</td>\n",
              "      <td>1</td>\n",
              "    </tr>\n",
              "    <tr>\n",
              "      <th>12972</th>\n",
              "      <td>-0.547353</td>\n",
              "      <td>-0.602145</td>\n",
              "      <td>-1.058161</td>\n",
              "      <td>-0.095322</td>\n",
              "      <td>0.0</td>\n",
              "      <td>0.0</td>\n",
              "      <td>0</td>\n",
              "      <td>0</td>\n",
              "      <td>0</td>\n",
              "      <td>0</td>\n",
              "      <td>...</td>\n",
              "      <td>0</td>\n",
              "      <td>0</td>\n",
              "      <td>0</td>\n",
              "      <td>0</td>\n",
              "      <td>0</td>\n",
              "      <td>0</td>\n",
              "      <td>0</td>\n",
              "      <td>0</td>\n",
              "      <td>0</td>\n",
              "      <td>1</td>\n",
              "    </tr>\n",
              "    <tr>\n",
              "      <th>41632</th>\n",
              "      <td>2.062208</td>\n",
              "      <td>-0.757615</td>\n",
              "      <td>1.104681</td>\n",
              "      <td>-0.882181</td>\n",
              "      <td>0.0</td>\n",
              "      <td>0.0</td>\n",
              "      <td>0</td>\n",
              "      <td>0</td>\n",
              "      <td>0</td>\n",
              "      <td>0</td>\n",
              "      <td>...</td>\n",
              "      <td>0</td>\n",
              "      <td>0</td>\n",
              "      <td>0</td>\n",
              "      <td>0</td>\n",
              "      <td>0</td>\n",
              "      <td>1</td>\n",
              "      <td>0</td>\n",
              "      <td>0</td>\n",
              "      <td>0</td>\n",
              "      <td>1</td>\n",
              "    </tr>\n",
              "    <tr>\n",
              "      <th>...</th>\n",
              "      <td>...</td>\n",
              "      <td>...</td>\n",
              "      <td>...</td>\n",
              "      <td>...</td>\n",
              "      <td>...</td>\n",
              "      <td>...</td>\n",
              "      <td>...</td>\n",
              "      <td>...</td>\n",
              "      <td>...</td>\n",
              "      <td>...</td>\n",
              "      <td>...</td>\n",
              "      <td>...</td>\n",
              "      <td>...</td>\n",
              "      <td>...</td>\n",
              "      <td>...</td>\n",
              "      <td>...</td>\n",
              "      <td>...</td>\n",
              "      <td>...</td>\n",
              "      <td>...</td>\n",
              "      <td>...</td>\n",
              "      <td>...</td>\n",
              "    </tr>\n",
              "    <tr>\n",
              "      <th>43723</th>\n",
              "      <td>0.958163</td>\n",
              "      <td>1.517227</td>\n",
              "      <td>-0.217055</td>\n",
              "      <td>0.691536</td>\n",
              "      <td>0.0</td>\n",
              "      <td>0.0</td>\n",
              "      <td>0</td>\n",
              "      <td>0</td>\n",
              "      <td>0</td>\n",
              "      <td>0</td>\n",
              "      <td>...</td>\n",
              "      <td>0</td>\n",
              "      <td>0</td>\n",
              "      <td>1</td>\n",
              "      <td>0</td>\n",
              "      <td>0</td>\n",
              "      <td>0</td>\n",
              "      <td>0</td>\n",
              "      <td>0</td>\n",
              "      <td>0</td>\n",
              "      <td>1</td>\n",
              "    </tr>\n",
              "    <tr>\n",
              "      <th>32511</th>\n",
              "      <td>-0.647721</td>\n",
              "      <td>-0.102152</td>\n",
              "      <td>0.143418</td>\n",
              "      <td>-0.095322</td>\n",
              "      <td>0.0</td>\n",
              "      <td>0.0</td>\n",
              "      <td>0</td>\n",
              "      <td>0</td>\n",
              "      <td>0</td>\n",
              "      <td>0</td>\n",
              "      <td>...</td>\n",
              "      <td>0</td>\n",
              "      <td>0</td>\n",
              "      <td>0</td>\n",
              "      <td>0</td>\n",
              "      <td>0</td>\n",
              "      <td>0</td>\n",
              "      <td>0</td>\n",
              "      <td>0</td>\n",
              "      <td>0</td>\n",
              "      <td>1</td>\n",
              "    </tr>\n",
              "    <tr>\n",
              "      <th>5192</th>\n",
              "      <td>0.757428</td>\n",
              "      <td>-0.324786</td>\n",
              "      <td>0.624050</td>\n",
              "      <td>3.052112</td>\n",
              "      <td>0.0</td>\n",
              "      <td>0.0</td>\n",
              "      <td>0</td>\n",
              "      <td>0</td>\n",
              "      <td>0</td>\n",
              "      <td>0</td>\n",
              "      <td>...</td>\n",
              "      <td>0</td>\n",
              "      <td>0</td>\n",
              "      <td>1</td>\n",
              "      <td>0</td>\n",
              "      <td>0</td>\n",
              "      <td>0</td>\n",
              "      <td>0</td>\n",
              "      <td>0</td>\n",
              "      <td>0</td>\n",
              "      <td>1</td>\n",
              "    </tr>\n",
              "    <tr>\n",
              "      <th>12172</th>\n",
              "      <td>0.456325</td>\n",
              "      <td>1.458770</td>\n",
              "      <td>0.503892</td>\n",
              "      <td>-0.095322</td>\n",
              "      <td>0.0</td>\n",
              "      <td>0.0</td>\n",
              "      <td>1</td>\n",
              "      <td>0</td>\n",
              "      <td>0</td>\n",
              "      <td>0</td>\n",
              "      <td>...</td>\n",
              "      <td>1</td>\n",
              "      <td>0</td>\n",
              "      <td>0</td>\n",
              "      <td>0</td>\n",
              "      <td>0</td>\n",
              "      <td>0</td>\n",
              "      <td>0</td>\n",
              "      <td>0</td>\n",
              "      <td>0</td>\n",
              "      <td>1</td>\n",
              "    </tr>\n",
              "    <tr>\n",
              "      <th>33003</th>\n",
              "      <td>0.456325</td>\n",
              "      <td>-0.324786</td>\n",
              "      <td>0.143418</td>\n",
              "      <td>-0.095322</td>\n",
              "      <td>0.0</td>\n",
              "      <td>0.0</td>\n",
              "      <td>0</td>\n",
              "      <td>1</td>\n",
              "      <td>0</td>\n",
              "      <td>0</td>\n",
              "      <td>...</td>\n",
              "      <td>0</td>\n",
              "      <td>0</td>\n",
              "      <td>0</td>\n",
              "      <td>0</td>\n",
              "      <td>0</td>\n",
              "      <td>0</td>\n",
              "      <td>0</td>\n",
              "      <td>1</td>\n",
              "      <td>0</td>\n",
              "      <td>0</td>\n",
              "    </tr>\n",
              "  </tbody>\n",
              "</table>\n",
              "<p>40689 rows × 48 columns</p>\n",
              "</div>\n",
              "      <button class=\"colab-df-convert\" onclick=\"convertToInteractive('df-a15b635c-324f-4bc6-b67a-aac40c3c6447')\"\n",
              "              title=\"Convert this dataframe to an interactive table.\"\n",
              "              style=\"display:none;\">\n",
              "        \n",
              "  <svg xmlns=\"http://www.w3.org/2000/svg\" height=\"24px\"viewBox=\"0 0 24 24\"\n",
              "       width=\"24px\">\n",
              "    <path d=\"M0 0h24v24H0V0z\" fill=\"none\"/>\n",
              "    <path d=\"M18.56 5.44l.94 2.06.94-2.06 2.06-.94-2.06-.94-.94-2.06-.94 2.06-2.06.94zm-11 1L8.5 8.5l.94-2.06 2.06-.94-2.06-.94L8.5 2.5l-.94 2.06-2.06.94zm10 10l.94 2.06.94-2.06 2.06-.94-2.06-.94-.94-2.06-.94 2.06-2.06.94z\"/><path d=\"M17.41 7.96l-1.37-1.37c-.4-.4-.92-.59-1.43-.59-.52 0-1.04.2-1.43.59L10.3 9.45l-7.72 7.72c-.78.78-.78 2.05 0 2.83L4 21.41c.39.39.9.59 1.41.59.51 0 1.02-.2 1.41-.59l7.78-7.78 2.81-2.81c.8-.78.8-2.07 0-2.86zM5.41 20L4 18.59l7.72-7.72 1.47 1.35L5.41 20z\"/>\n",
              "  </svg>\n",
              "      </button>\n",
              "      \n",
              "  <style>\n",
              "    .colab-df-container {\n",
              "      display:flex;\n",
              "      flex-wrap:wrap;\n",
              "      gap: 12px;\n",
              "    }\n",
              "\n",
              "    .colab-df-convert {\n",
              "      background-color: #E8F0FE;\n",
              "      border: none;\n",
              "      border-radius: 50%;\n",
              "      cursor: pointer;\n",
              "      display: none;\n",
              "      fill: #1967D2;\n",
              "      height: 32px;\n",
              "      padding: 0 0 0 0;\n",
              "      width: 32px;\n",
              "    }\n",
              "\n",
              "    .colab-df-convert:hover {\n",
              "      background-color: #E2EBFA;\n",
              "      box-shadow: 0px 1px 2px rgba(60, 64, 67, 0.3), 0px 1px 3px 1px rgba(60, 64, 67, 0.15);\n",
              "      fill: #174EA6;\n",
              "    }\n",
              "\n",
              "    [theme=dark] .colab-df-convert {\n",
              "      background-color: #3B4455;\n",
              "      fill: #D2E3FC;\n",
              "    }\n",
              "\n",
              "    [theme=dark] .colab-df-convert:hover {\n",
              "      background-color: #434B5C;\n",
              "      box-shadow: 0px 1px 3px 1px rgba(0, 0, 0, 0.15);\n",
              "      filter: drop-shadow(0px 1px 2px rgba(0, 0, 0, 0.3));\n",
              "      fill: #FFFFFF;\n",
              "    }\n",
              "  </style>\n",
              "\n",
              "      <script>\n",
              "        const buttonEl =\n",
              "          document.querySelector('#df-a15b635c-324f-4bc6-b67a-aac40c3c6447 button.colab-df-convert');\n",
              "        buttonEl.style.display =\n",
              "          google.colab.kernel.accessAllowed ? 'block' : 'none';\n",
              "\n",
              "        async function convertToInteractive(key) {\n",
              "          const element = document.querySelector('#df-a15b635c-324f-4bc6-b67a-aac40c3c6447');\n",
              "          const dataTable =\n",
              "            await google.colab.kernel.invokeFunction('convertToInteractive',\n",
              "                                                     [key], {});\n",
              "          if (!dataTable) return;\n",
              "\n",
              "          const docLinkHtml = 'Like what you see? Visit the ' +\n",
              "            '<a target=\"_blank\" href=https://colab.research.google.com/notebooks/data_table.ipynb>data table notebook</a>'\n",
              "            + ' to learn more about interactive tables.';\n",
              "          element.innerHTML = '';\n",
              "          dataTable['output_type'] = 'display_data';\n",
              "          await google.colab.output.renderOutput(dataTable, element);\n",
              "          const docLink = document.createElement('div');\n",
              "          docLink.innerHTML = docLinkHtml;\n",
              "          element.appendChild(docLink);\n",
              "        }\n",
              "      </script>\n",
              "    </div>\n",
              "  </div>\n",
              "  "
            ]
          },
          "metadata": {},
          "execution_count": 33
        }
      ]
    },
    {
      "cell_type": "code",
      "source": [
        "pca(X_train)\n",
        "\n",
        "X_train_reduced, X_test_reduced = dim_red('PCA', 16, X_train, X_test)\n",
        "\n",
        "X_train_smote, y_train_smote = class_imb(X_train_reduced, y_train)"
      ],
      "metadata": {
        "colab": {
          "base_uri": "https://localhost:8080/",
          "height": 482
        },
        "id": "TpVAMPqPKAyW",
        "outputId": "c03b3bff-92c4-4cc0-df8b-25063d991bcf"
      },
      "execution_count": null,
      "outputs": [
        {
          "output_type": "display_data",
          "data": {
            "text/plain": [
              "<Figure size 1200x600 with 1 Axes>"
            ],
            "image/png": "[encoded data removed]"
          },
          "metadata": {}
        },
        {
          "output_type": "stream",
          "name": "stdout",
          "text": [
            "Original Shape:  (40689, 48)\n",
            "transformed shape:  (40689, 16)\n",
            "explained variation per principle component: [0.13891868 0.13160391 0.11719851 0.1070172  0.08079098 0.05219238\n",
            " 0.04980578 0.03905036 0.03264189 0.02906524 0.02344608 0.01990082\n",
            " 0.01859528 0.01605457 0.01565435 0.01396346]\n"
          ]
        }
      ]
    },
    {
      "cell_type": "code",
      "source": [
        "#machine learning model\n",
        "metrics = ['accuracy', 'f1', 'precision', 'recall', 'roc_auc']\n",
        "\n",
        "#Logistic regression\n",
        "model_res = model(\"LR\", \"KFold\", metrics, X_train_smote, X_test_reduced, y_train_smote)\n",
        "\n",
        "model_res = model(\"LR\", 'StratifiedKFold', metrics, X_train_smote, X_test_reduced, y_train_smote)\n",
        "\n",
        "prediction(model_res, 'Linear Regression', X_train_smote, y_train_smote, X_test_reduced, y_test)\n",
        "\n"
      ],
      "metadata": {
        "colab": {
          "base_uri": "https://localhost:8080/",
          "height": 1000
        },
        "id": "KkscCjLgPP0d",
        "outputId": "3ccbaf83-2ae4-4b37-a1e8-e49d95acbf03"
      },
      "execution_count": null,
      "outputs": [
        {
          "output_type": "stream",
          "name": "stdout",
          "text": [
            "Logistic Regression\n",
            "----------------------\n",
            "Cross validation: KFold\n",
            "--------------------------\n",
            "fit_time: 13.03%\n",
            "\n",
            "score_time: 2.99%\n",
            "\n",
            "test_accuracy: 67.41%\n",
            "\n",
            "test_f1: 68.43%\n",
            "\n",
            "test_precision: 66.37%\n",
            "\n",
            "test_recall: 70.63%\n",
            "\n",
            "test_roc_auc: 73.34%\n",
            "\n",
            "Logistic Regression\n",
            "----------------------\n",
            "Cross validation: StratifiedKFold\n",
            "--------------------------\n",
            "fit_time: 12.99%\n",
            "\n",
            "score_time: 3.10%\n",
            "\n",
            "test_accuracy: 67.44%\n",
            "\n",
            "test_f1: 68.46%\n",
            "\n",
            "test_precision: 66.38%\n",
            "\n",
            "test_recall: 70.68%\n",
            "\n",
            "test_roc_auc: 73.35%\n",
            "\n"
          ]
        },
        {
          "output_type": "display_data",
          "data": {
            "text/plain": [
              "<Figure size 640x480 with 2 Axes>"
            ],
            "image/png": "[encoded data removed]"
          },
          "metadata": {}
        }
      ]
    },
    {
      "cell_type": "code",
      "source": [
        "model_res = model(\"XGB\", \"KFold\", metrics, X_train_smote, X_test_reduced, y_train_smote)\n",
        "\n",
        "model_res = model(\"XGB\", 'StratifiedKFold', metrics, X_train_smote, X_test_reduced, y_train_smote)\n",
        "\n",
        "prediction(model_res, 'XGBoost Classifier', X_train_smote, y_train_smote, X_test_reduced, y_test)"
      ],
      "metadata": {
        "colab": {
          "base_uri": "https://localhost:8080/",
          "height": 1000
        },
        "id": "SPMUk0jO4bX-",
        "outputId": "0396b4ea-78fb-450b-d506-e4571de1deca"
      },
      "execution_count": null,
      "outputs": [
        {
          "output_type": "stream",
          "name": "stdout",
          "text": [
            "XGBoost\n",
            "----------------------\n",
            "Cross validation: KFold\n",
            "--------------------------\n",
            "fit_time: 2837.84%\n",
            "\n",
            "score_time: 6.25%\n",
            "\n",
            "test_accuracy: 81.58%\n",
            "\n",
            "test_f1: 81.90%\n",
            "\n",
            "test_precision: 80.49%\n",
            "\n",
            "test_recall: 83.35%\n",
            "\n",
            "test_roc_auc: 89.30%\n",
            "\n",
            "XGBoost\n",
            "----------------------\n",
            "Cross validation: StratifiedKFold\n",
            "--------------------------\n",
            "fit_time: 2695.49%\n",
            "\n",
            "score_time: 6.52%\n",
            "\n",
            "test_accuracy: 81.71%\n",
            "\n",
            "test_f1: 82.04%\n",
            "\n",
            "test_precision: 80.59%\n",
            "\n",
            "test_recall: 83.55%\n",
            "\n",
            "test_roc_auc: 89.43%\n",
            "\n"
          ]
        },
        {
          "output_type": "display_data",
          "data": {
            "text/plain": [
              "<Figure size 640x480 with 2 Axes>"
            ],
            "image/png": "[encoded data removed]"
          },
          "metadata": {}
        }
      ]
    },
    {
      "cell_type": "code",
      "source": [
        "model_res = model(\"MLP\", \"KFold\", metrics, X_train_smote, X_test_reduced, y_train_smote)\n",
        "\n",
        "model_res = model(\"MLP\", 'StratifiedKFold', metrics, X_train_smote, X_test_reduced, y_train_smote)\n",
        "\n",
        "prediction(model_res, 'Multi Layer Perceptron', X_train_smote, y_train_smote, X_test_reduced, y_test)"
      ],
      "metadata": {
        "colab": {
          "base_uri": "https://localhost:8080/",
          "height": 1000
        },
        "id": "33l22fJF45N9",
        "outputId": "4710441b-90de-47e3-aa92-0fd589e939a6"
      },
      "execution_count": null,
      "outputs": [
        {
          "output_type": "stream",
          "name": "stdout",
          "text": [
            "Multi Layer Perceptron\n",
            "----------------------\n",
            "Cross validation: KFold\n",
            "--------------------------\n",
            "fit_time: 10483.10%\n",
            "\n",
            "score_time: 5.23%\n",
            "\n",
            "test_accuracy: 80.73%\n",
            "\n",
            "test_f1: 80.74%\n",
            "\n",
            "test_precision: 80.69%\n",
            "\n",
            "test_recall: 80.83%\n",
            "\n",
            "test_roc_auc: 88.63%\n",
            "\n",
            "Multi Layer Perceptron\n",
            "----------------------\n",
            "Cross validation: StratifiedKFold\n",
            "--------------------------\n",
            "fit_time: 10460.27%\n",
            "\n",
            "score_time: 6.39%\n",
            "\n",
            "test_accuracy: 80.76%\n",
            "\n",
            "test_f1: 80.92%\n",
            "\n",
            "test_precision: 80.30%\n",
            "\n",
            "test_recall: 81.57%\n",
            "\n",
            "test_roc_auc: 88.38%\n",
            "\n"
          ]
        },
        {
          "output_type": "display_data",
          "data": {
            "text/plain": [
              "<Figure size 640x480 with 2 Axes>"
            ],
            "image/png": "[encoded data removed]"
          },
          "metadata": {}
        }
      ]
    },
    {
      "cell_type": "markdown",
      "metadata": {
        "id": "g35McWJmBdoq"
      },
      "source": [
        "As we know that, ML algorithms only read numerical values, that's why we need to change our categorical values to numerical values."
      ]
    },
    {
      "cell_type": "markdown",
      "metadata": {
        "id": "RDLGKcycIgBb"
      },
      "source": [
        "Specifying Dependent and Independent variables:\n",
        "To proceed in builidng our prediction model, we have to specify our dependent and independent variables"
      ]
    },
    {
      "cell_type": "markdown",
      "metadata": {
        "id": "YD_G82zrIyZ6"
      },
      "source": [
        "Independent variables : are the input for a process that is being analyzed\n",
        "Dependent variables: Dependent variable is the output of the process"
      ]
    },
    {
      "cell_type": "markdown",
      "metadata": {
        "id": "4RgdDMf6KDCb"
      },
      "source": [
        "the column 'duration' was dropped because it highly affects the output target(if duration = 0 then y = 'no')"
      ]
    },
    {
      "cell_type": "markdown",
      "metadata": {
        "id": "gKsJC6vle5F6"
      },
      "source": [
        "as we can see that we have lots of variables, so it is generally advisable to reduce the dimension of the dataset and we can do this by multiple methods such as PCA, TSNE etc.\n",
        "In this case we will go with PCA and see what happens"
      ]
    }
  ],
  "metadata": {
    "colab": {
      "provenance": [],
      "authorship_tag": "ABX9TyMWxcfpU2s9fhV2M81eOP4Q",
      "include_colab_link": true
    },
    "kernelspec": {
      "display_name": "Python 3",
      "name": "python3"
    },
    "language_info": {
      "name": "python"
    }
  },
  "nbformat": 4,
  "nbformat_minor": 0
}